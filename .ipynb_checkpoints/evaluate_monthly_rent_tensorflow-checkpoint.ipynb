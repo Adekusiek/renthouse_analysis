{
 "cells": [
  {
   "cell_type": "code",
   "execution_count": 1,
   "metadata": {},
   "outputs": [
    {
     "name": "stderr",
     "output_type": "stream",
     "text": [
      "/Users/kawaharakeisuke/.pyenv/versions/anaconda3-4.3.0/envs/scraping/lib/python3.5/site-packages/pandas/core/indexing.py:179: SettingWithCopyWarning: \n",
      "A value is trying to be set on a copy of a slice from a DataFrame\n",
      "\n",
      "See the caveats in the documentation: http://pandas.pydata.org/pandas-docs/stable/indexing.html#indexing-view-versus-copy\n",
      "  self._setitem_with_indexer(indexer, value)\n"
     ]
    }
   ],
   "source": [
    "import pandas as pd\n",
    "import numpy as np\n",
    "from sklearn import metrics, model_selection, ensemble, preprocessing\n",
    "import tensorflow as tf\n",
    "import pymysql.cursors\n",
    "\n",
    "# Connect to DB\n",
    "db = pymysql.connect(\n",
    "        host = 'localhost',\n",
    "        user = 'root',\n",
    "        password = '',\n",
    "        db = 'all_monthly_rent_development',\n",
    "        charset = 'utf8mb4',\n",
    "        cursorclass=pymysql.cursors.DictCursor)\n",
    "\n",
    "# get data with not prediction data\n",
    "df = pd.read_sql('select * from appartments where pre_monthly_rent is NULL;', con=db)\n",
    "\n",
    "#立地を「路線, 駅, 徒歩〜分」に分割\n",
    "df = df.drop(df.index[(df['station1'].str.count(\"/\") > 1) | (df['station2'].str.count(\"/\") > 1) | (df['station3'].str.count(\"/\") > 1)])\n",
    "df = df.drop(df.index[df['initial_cost'].str.count(\"/\") > 3])\n",
    "\n",
    "splitted00 = df['station1'].str.split(' 歩', expand=True)\n",
    "splitted00.columns = ['location1', 'walk_min1']\n",
    "splitted10 = splitted00['location1'].str.split('/', expand=True)\n",
    "splitted10.columns = ['line1', 'station_name1']\n",
    "\n",
    "splitted01 = df['station2'].str.split(' 歩', expand=True)\n",
    "splitted01.columns = ['location2', 'walk_min2']\n",
    "splitted11 = splitted01['location2'].str.split('/', expand=True)\n",
    "splitted11.columns = ['line2', 'station_name2']\n",
    "\n",
    "splitted02 = df['station3'].str.split(' 歩', expand=True)\n",
    "splitted02.columns = ['location3', 'walk_min3']\n",
    "splitted12 = splitted02['location3'].str.split('/', expand=True)\n",
    "splitted12.columns = ['line3', 'station_name3']\n",
    "\n",
    "# some data contains null due to scraiping error\n",
    "df = df.dropna(subset=['initial_cost'])\n",
    "\n",
    "splitted2 = df['initial_cost'].str.split('/', expand=True)\n",
    "splitted2.columns = ['shikikin', 'reikin', 'hoshokin', 'shokyaku']\n",
    "#分割したカラムを結合\n",
    "df = pd.concat([df, splitted00, splitted10, splitted01, splitted11, splitted02, \\\n",
    "                splitted12, splitted2], axis=1)\n",
    "\n",
    "df['shikikin'] = df['shikikin'].str.replace(u'万円', u'')\n",
    "df['reikin'] = df['reikin'].str.replace(u'万円', u'')\n",
    "df['hoshokin'] = df['hoshokin'].str.replace(u'万円', u'')\n",
    "df['shokyaku'] = df['shokyaku'].str.replace(u'万円', u'')\n",
    "df['walk_min1'] = df['walk_min1'].str.replace(u'分', u'')\n",
    "\n",
    "#「-」を0に変換\n",
    "df['shikikin'] = df['shikikin'].replace('--',0)\n",
    "df['reikin'] = df['reikin'].replace('--',0)\n",
    "df['hoshokin'] = df['hoshokin'].replace('--',0)\n",
    "df['shokyaku'] = df['shokyaku'].replace('--',0)\n",
    "df['shikikin'] = df['shikikin'].replace('-',0)\n",
    "df['reikin'] = df['reikin'].replace('-',0)\n",
    "df['hoshokin'] = df['hoshokin'].replace('-',0)\n",
    "df['shokyaku'] = df['shokyaku'].replace('-',0)\n",
    "df['shokyaku'] = df['shokyaku'].replace('実費',0)\n",
    "\n",
    "#文字列から数値に変換\n",
    "df['shikikin'] = pd.to_numeric(df['shikikin'])\n",
    "df['reikin'] = pd.to_numeric(df['reikin'])\n",
    "df['hoshokin'] = pd.to_numeric(df['hoshokin'])\n",
    "df['shokyaku'] = pd.to_numeric(df['shokyaku'])\n",
    "\n",
    "# some data contains null due to scraiping error\n",
    "df = df.dropna(subset=['rent'])\n",
    "\n",
    "#単位を合わせるために、admin_fee以外を10000倍。\n",
    "df['rent'] = df['rent'].astype(int) * 10000\n",
    "df['shikikin'] = df['shikikin'].astype(int) * 10000\n",
    "df['reikin'] = df['reikin'].astype(int) * 10000\n",
    "df['hoshokin'] = df['hoshokin'].astype(int) * 10000\n",
    "df['shokyaku'] = df['shokyaku'].astype(int) * 10000\n",
    "\n",
    "#賃貸の計算\n",
    "df['monthly_rent'] = df['rent'] + df['admin_fee']\n",
    "df['total_initial_cost'] = df['shikikin'] + df['reikin'] + df['hoshokin'] + df['shokyaku']\n",
    "df['total_annual_cost'] = df['monthly_rent'] * 12 + df['total_initial_cost']\n",
    "\n",
    "df = df.dropna(subset=['walk_min1'])\n",
    "df['walk_min1'] = pd.to_numeric(df['walk_min1'])\n",
    "\n",
    "#区の切り出し\n",
    "splitted3 = df['address'].str.split('区', expand=True)\n",
    "splitted3.columns = ['ward', 'address']\n",
    "splitted3['ward'] = splitted3['ward'].str.replace('東京都', '')\n",
    "df = pd.concat([df, splitted3['ward']], axis=1)\n",
    "\n",
    "#indexを振り直す（これをしないと、以下の処理でエラーが出る）\n",
    "df = df.reset_index(drop=True)\n",
    "\n",
    "#間取りを分割\n",
    "df['plan_DK'] = 0\n",
    "df['plan_L'] = 0\n",
    "df['plan_K'] = 0\n",
    "df['plan_S'] = 0\n",
    "df['floor_plan'] = df['floor_plan'].str.replace(u'ワンルーム', u'1') #ワンルームを1に変換\n",
    "\n",
    "# df index or df ix ->\n",
    "df['plan_L'].iloc[df.index[df['floor_plan'].str.count('L') > 0]] = 1\n",
    "df['floor_plan'] = df['floor_plan'].str.replace(u'L', u'')\n",
    "\n",
    "df['plan_DK'].iloc[df.index[df['floor_plan'].str.count('DK') > 0]] = 1\n",
    "df['floor_plan'] = df['floor_plan'].str.replace(u'DK', u'')\n",
    "\n",
    "df['plan_K'].iloc[df.index[df['floor_plan'].str.count('K') > 0]] = 1\n",
    "df['floor_plan'] = df['floor_plan'].str.replace(u'K', u'')\n",
    "\n",
    "df['plan_S'].iloc[df.index[df['floor_plan'].str.count('S') > 0]] = 1\n",
    "df['floor_plan'] = df['floor_plan'].str.replace(u'S', u'')\n",
    "\n",
    "df['floor_plan'] = df['floor_plan'].str.replace(u'R', u'')\n",
    "df['floor_plan'] = df['floor_plan'].str.replace(u'+', u'')\n",
    "df['floor_plan'] = pd.to_numeric(df['floor_plan'])\n",
    "\n",
    "\n",
    "df = df[['id', 'name','ward','floor_plan','plan_DK','plan_L','plan_K','plan_S','age','story', \\\n",
    "    'floor','surface','walk_min1','line1', 'station_name1',  'rent','admin_fee', \\\n",
    "    'shikikin', 'reikin','hoshokin','shokyaku', 'monthly_rent', 'total_initial_cost', \\\n",
    "    'total_annual_cost']]\n"
   ]
  },
  {
   "cell_type": "code",
   "execution_count": 2,
   "metadata": {},
   "outputs": [],
   "source": [
    "#df_o: original df_wo: scaled\n",
    "df_o = df[['floor_plan', 'plan_DK','plan_L', 'plan_K','plan_S','age','story', 'floor','surface','walk_min1', 'monthly_rent']]\n",
    "ward = pd.get_dummies(df['ward'])\n",
    "df_o = pd.merge(df_o, ward, left_index=True, right_index=True)\n",
    "\n",
    "target = df_o['monthly_rent']/100000\n",
    "df_o.drop(['monthly_rent'], axis=1, inplace=True) \n",
    "data = df_o\n",
    "\n",
    "df_scaler = preprocessing.StandardScaler().fit(data)\n",
    "df_n = df_scaler.transform(data)\n",
    "\n",
    "target = target.values.reshape(target.shape[0], 1)"
   ]
  },
  {
   "cell_type": "code",
   "execution_count": 3,
   "metadata": {
    "collapsed": true
   },
   "outputs": [],
   "source": [
    "# parameters\n",
    "learning_rate = 0.001\n",
    "n_hidden_1 = 64\n",
    "n_hidden_2 = 32\n",
    "n_hidden_3 = 16\n",
    "n_input = df_n.shape[1]\n",
    "n_class = 1\n",
    "\n",
    "# declare placeholder\n",
    "x = tf.placeholder(tf.float32, [None, n_input])\n",
    "y_ = tf.placeholder(tf.float32, [None, 1])\n",
    "keep_prob = tf.placeholder(tf.float32)\n",
    "\n",
    "# declare variables\n",
    "weights = {\n",
    "    'w1': tf.Variable(tf.random_normal([n_input, n_hidden_1], 0, stddev=0.1), name=\"w1\"),\n",
    "    'w2': tf.Variable(tf.random_normal([n_hidden_1, n_hidden_2], 0, stddev=0.1), name=\"w2\"),\n",
    "    'w3': tf.Variable(tf.random_normal([n_hidden_2, n_hidden_3], 0, stddev=0.1), name=\"w3\"), \n",
    "    'w4': tf.Variable(tf.random_normal([n_hidden_3, n_class], 0, stddev=0.1), name=\"w4\")     \n",
    "}\n",
    "\n",
    "biases = {\n",
    "    'b1': tf.Variable(tf.random_normal([n_hidden_1], 0, stddev=0.1), name=\"b1\"), \n",
    "    'b2': tf.Variable(tf.random_normal([n_hidden_2], 0, stddev=0.1), name=\"b2\"), \n",
    "    'b3': tf.Variable(tf.random_normal([n_hidden_3], 0, stddev=0.1), name=\"b3\"), \n",
    "    'b4': tf.Variable(tf.random_normal([n_class], 0, stddev=0.1), name=\"b4\")     \n",
    "}\n",
    "\n",
    "# Create model\n",
    "def multilayer_perceptron(x, weights, biases):\n",
    "    # Hidden layer with RELU activation\n",
    "    layer_1 = tf.add(tf.matmul(x, weights['w1']), biases['b1'])\n",
    "    layer_1 = tf.nn.relu(layer_1)\n",
    "\n",
    "    # Hidden layer with RELU activation\n",
    "    layer_2 = tf.add(tf.matmul(layer_1, weights['w2']), biases['b2'])\n",
    "    layer_2 = tf.nn.relu(layer_2)\n",
    "\n",
    "    # Hidden layer with RELU activation\n",
    "    layer_3 = tf.add(tf.matmul(layer_2, weights['w3']), biases['b3'])\n",
    "    layer_3 = tf.nn.relu(layer_3)\n",
    "    layer_3 = tf.nn.dropout(layer_3, keep_prob)\n",
    "\n",
    "    # Output layer with linear activation\n",
    "    out_layer = tf.matmul(layer_3, weights['w4']) + biases['b4']\n",
    "    return out_layer\n",
    "\n",
    "# train model\n",
    "pred = multilayer_perceptron(x, weights, biases)"
   ]
  },
  {
   "cell_type": "code",
   "execution_count": 8,
   "metadata": {},
   "outputs": [
    {
     "name": "stdout",
     "output_type": "stream",
     "text": [
      "INFO:tensorflow:Restoring parameters from all_tf.ckpt\n"
     ]
    }
   ],
   "source": [
    "saver = tf.train.Saver()\n",
    "sess = tf.Session()\n",
    "saver.restore(sess, \"all_tf.ckpt\")\n",
    "\n",
    "monthly_rent_pred = sess.run(pred, feed_dict={x: df_n, keep_prob: 1.0}) * 100000\n",
    "delta = monthly_rent_pred - target * 100000"
   ]
  },
  {
   "cell_type": "code",
   "execution_count": 9,
   "metadata": {
    "collapsed": true
   },
   "outputs": [],
   "source": [
    "pre_monthly_rent = pd.DataFrame(monthly_rent_pred)\n",
    "pre_monthly_rent.columns = ['pre_monthly_rent']"
   ]
  },
  {
   "cell_type": "code",
   "execution_count": 10,
   "metadata": {
    "collapsed": true
   },
   "outputs": [],
   "source": [
    "delta = pd.DataFrame(delta)\n",
    "delta.columns = ['delta_monthly_rent']"
   ]
  },
  {
   "cell_type": "code",
   "execution_count": 11,
   "metadata": {},
   "outputs": [],
   "source": [
    "df = pd.concat([df, pre_monthly_rent, delta], axis=1)\n",
    "df['pre_monthly_rent'] = df['pre_monthly_rent'].astype(int)\n",
    "df['delta_monthly_rent'] = df['delta_monthly_rent'].astype(int)"
   ]
  },
  {
   "cell_type": "code",
   "execution_count": null,
   "metadata": {
    "collapsed": true
   },
   "outputs": [],
   "source": [
    "#Update database for pre_monthly_rent and delta_monthly_rent\n",
    "for i in range(len(df)):\n",
    "    c = db.cursor()\n",
    "    sql_update = \"update appartments set pre_monthly_rent = '%s', delta_monthly_rent = '%s' where id = %s;\" \\\n",
    "                    % (df['pre_monthly_rent'][i], df['delta_monthly_rent'][i],  df['id'][i])\n",
    "    c.execute(sql_update)\n",
    "    db.commit()\n",
    "    c.close()"
   ]
  }
 ],
 "metadata": {
  "kernelspec": {
   "display_name": "Python 3",
   "language": "python",
   "name": "python3"
  },
  "language_info": {
   "codemirror_mode": {
    "name": "ipython",
    "version": 3
   },
   "file_extension": ".py",
   "mimetype": "text/x-python",
   "name": "python",
   "nbconvert_exporter": "python",
   "pygments_lexer": "ipython3",
   "version": "3.5.4"
  }
 },
 "nbformat": 4,
 "nbformat_minor": 2
}

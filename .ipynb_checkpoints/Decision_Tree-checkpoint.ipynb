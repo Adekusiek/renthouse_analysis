{
 "cells": [
  {
   "cell_type": "code",
   "execution_count": 55,
   "metadata": {
    "collapsed": false,
    "deletable": true,
    "editable": true
   },
   "outputs": [
    {
     "name": "stderr",
     "output_type": "stream",
     "text": [
      "/Users/kawaharakeisuke/.pyenv/versions/anaconda3-4.3.0/lib/python3.6/site-packages/IPython/core/interactiveshell.py:2717: DtypeWarning: Columns (3) have mixed types. Specify dtype option on import or set low_memory=False.\n",
      "  interactivity=interactivity, compiler=compiler, result=result)\n"
     ]
    }
   ],
   "source": [
    "import pandas as pd\n",
    "from sklearn import metrics, model_selection, ensemble\n",
    "import matplotlib.pyplot as plt\n",
    "\n",
    "\n",
    "df = pd.read_csv('suumo_treated.csv', sep = '\\t', encoding='utf-16', index_col=0)\n",
    "\n",
    "df['間取り'] = df['間取り'].str.replace(u'L', u'')\n",
    "\n",
    "df = df.sort_values(by='年間費用', ascending=False)\n",
    "df = df.drop(29926)\n",
    "df.head()\n",
    "ward = pd.get_dummies(df['区'])\n",
    "\n",
    "df = pd.merge(df, ward, left_index=True, right_index=True)"
   ]
  },
  {
   "cell_type": "code",
   "execution_count": 56,
   "metadata": {
    "collapsed": false
   },
   "outputs": [
    {
     "data": {
      "image/png": "[encoded data removed]",
      "text/plain": [
       "<matplotlib.figure.Figure at 0x1140f24e0>"
      ]
     },
     "metadata": {},
     "output_type": "display_data"
    }
   ],
   "source": [
    "\n",
    "#df.to_csv('suumo_treated.csv', sep = '\\t',encoding='utf-16')\n",
    "df = df.drop(df.index[df['築年数'] == 99])\n",
    "\n",
    "plt.scatter(df['築年数'], df['年間費用'])\n",
    "plt.show()"
   ]
  },
  {
   "cell_type": "code",
   "execution_count": 57,
   "metadata": {
    "collapsed": false
   },
   "outputs": [],
   "source": [
    "df = df.dropna()\n",
    "# test = df.sort_values(by='間取り', ascending=True)\n",
    "# test.head()"
   ]
  },
  {
   "cell_type": "code",
   "execution_count": 58,
   "metadata": {
    "collapsed": false,
    "deletable": true,
    "editable": true
   },
   "outputs": [
    {
     "data": {
      "text/html": [
       "<div>\n",
       "<table border=\"1\" class=\"dataframe\">\n",
       "  <thead>\n",
       "    <tr style=\"text-align: right;\">\n",
       "      <th></th>\n",
       "      <th>間取り</th>\n",
       "      <th>間取りDK_LDK</th>\n",
       "      <th>間取りK</th>\n",
       "      <th>間取りS</th>\n",
       "      <th>築年数</th>\n",
       "      <th>建物高さ</th>\n",
       "      <th>階</th>\n",
       "      <th>専有面積</th>\n",
       "      <th>歩分</th>\n",
       "      <th>世田谷</th>\n",
       "      <th>...</th>\n",
       "      <th>江戸川</th>\n",
       "      <th>江東</th>\n",
       "      <th>渋谷</th>\n",
       "      <th>港</th>\n",
       "      <th>目黒</th>\n",
       "      <th>練馬</th>\n",
       "      <th>荒川</th>\n",
       "      <th>葛飾</th>\n",
       "      <th>豊島</th>\n",
       "      <th>足立</th>\n",
       "    </tr>\n",
       "  </thead>\n",
       "  <tbody>\n",
       "    <tr>\n",
       "      <th>53571</th>\n",
       "      <td>2</td>\n",
       "      <td>1</td>\n",
       "      <td>0</td>\n",
       "      <td>0</td>\n",
       "      <td>11</td>\n",
       "      <td>15</td>\n",
       "      <td>14</td>\n",
       "      <td>38.75</td>\n",
       "      <td>8.0</td>\n",
       "      <td>0</td>\n",
       "      <td>...</td>\n",
       "      <td>0</td>\n",
       "      <td>1</td>\n",
       "      <td>0</td>\n",
       "      <td>0</td>\n",
       "      <td>0</td>\n",
       "      <td>0</td>\n",
       "      <td>0</td>\n",
       "      <td>0</td>\n",
       "      <td>0</td>\n",
       "      <td>0</td>\n",
       "    </tr>\n",
       "    <tr>\n",
       "      <th>13747</th>\n",
       "      <td>1</td>\n",
       "      <td>0</td>\n",
       "      <td>0</td>\n",
       "      <td>0</td>\n",
       "      <td>28</td>\n",
       "      <td>7</td>\n",
       "      <td>3</td>\n",
       "      <td>20.21</td>\n",
       "      <td>5.0</td>\n",
       "      <td>0</td>\n",
       "      <td>...</td>\n",
       "      <td>0</td>\n",
       "      <td>0</td>\n",
       "      <td>0</td>\n",
       "      <td>0</td>\n",
       "      <td>0</td>\n",
       "      <td>0</td>\n",
       "      <td>0</td>\n",
       "      <td>0</td>\n",
       "      <td>0</td>\n",
       "      <td>0</td>\n",
       "    </tr>\n",
       "    <tr>\n",
       "      <th>132601</th>\n",
       "      <td>1</td>\n",
       "      <td>0</td>\n",
       "      <td>1</td>\n",
       "      <td>0</td>\n",
       "      <td>9</td>\n",
       "      <td>7</td>\n",
       "      <td>1</td>\n",
       "      <td>20.28</td>\n",
       "      <td>7.0</td>\n",
       "      <td>0</td>\n",
       "      <td>...</td>\n",
       "      <td>0</td>\n",
       "      <td>0</td>\n",
       "      <td>0</td>\n",
       "      <td>0</td>\n",
       "      <td>0</td>\n",
       "      <td>0</td>\n",
       "      <td>0</td>\n",
       "      <td>0</td>\n",
       "      <td>1</td>\n",
       "      <td>0</td>\n",
       "    </tr>\n",
       "    <tr>\n",
       "      <th>92418</th>\n",
       "      <td>1</td>\n",
       "      <td>0</td>\n",
       "      <td>1</td>\n",
       "      <td>0</td>\n",
       "      <td>21</td>\n",
       "      <td>2</td>\n",
       "      <td>2</td>\n",
       "      <td>20.52</td>\n",
       "      <td>6.0</td>\n",
       "      <td>1</td>\n",
       "      <td>...</td>\n",
       "      <td>0</td>\n",
       "      <td>0</td>\n",
       "      <td>0</td>\n",
       "      <td>0</td>\n",
       "      <td>0</td>\n",
       "      <td>0</td>\n",
       "      <td>0</td>\n",
       "      <td>0</td>\n",
       "      <td>0</td>\n",
       "      <td>0</td>\n",
       "    </tr>\n",
       "    <tr>\n",
       "      <th>152100</th>\n",
       "      <td>2</td>\n",
       "      <td>1</td>\n",
       "      <td>0</td>\n",
       "      <td>0</td>\n",
       "      <td>40</td>\n",
       "      <td>5</td>\n",
       "      <td>3</td>\n",
       "      <td>41.00</td>\n",
       "      <td>5.0</td>\n",
       "      <td>0</td>\n",
       "      <td>...</td>\n",
       "      <td>0</td>\n",
       "      <td>0</td>\n",
       "      <td>0</td>\n",
       "      <td>0</td>\n",
       "      <td>0</td>\n",
       "      <td>0</td>\n",
       "      <td>0</td>\n",
       "      <td>0</td>\n",
       "      <td>0</td>\n",
       "      <td>0</td>\n",
       "    </tr>\n",
       "  </tbody>\n",
       "</table>\n",
       "<p>5 rows × 32 columns</p>\n",
       "</div>"
      ],
      "text/plain": [
       "       間取り  間取りDK_LDK  間取りK  間取りS  築年数  建物高さ   階   専有面積   歩分  世田谷 ...  江戸川  \\\n",
       "53571    2          1     0     0   11    15  14  38.75  8.0    0 ...    0   \n",
       "13747    1          0     0     0   28     7   3  20.21  5.0    0 ...    0   \n",
       "132601   1          0     1     0    9     7   1  20.28  7.0    0 ...    0   \n",
       "92418    1          0     1     0   21     2   2  20.52  6.0    1 ...    0   \n",
       "152100   2          1     0     0   40     5   3  41.00  5.0    0 ...    0   \n",
       "\n",
       "        江東  渋谷  港  目黒  練馬  荒川  葛飾  豊島  足立  \n",
       "53571    1   0  0   0   0   0   0   0   0  \n",
       "13747    0   0  0   0   0   0   0   0   0  \n",
       "132601   0   0  0   0   0   0   0   1   0  \n",
       "92418    0   0  0   0   0   0   0   0   0  \n",
       "152100   0   0  0   0   0   0   0   0   0  \n",
       "\n",
       "[5 rows x 32 columns]"
      ]
     },
     "execution_count": 58,
     "metadata": {},
     "output_type": "execute_result"
    }
   ],
   "source": [
    "df_extract = df\n",
    "label = df_extract['年間費用']\n",
    "df_extract.drop(['マンション名','区','路線', '駅', '賃料','管理費','敷金','礼金','保証金','敷引,償却', '賃料月額', '初期費用', '年間費用'], axis=1, inplace=True) \n",
    "data = df_extract\n",
    "\n",
    "data_train, data_test, label_train, label_test = \\\n",
    "    model_selection.train_test_split(data, label)\n",
    "\n",
    "data_train.head()"
   ]
  },
  {
   "cell_type": "code",
   "execution_count": 59,
   "metadata": {
    "collapsed": false
   },
   "outputs": [
    {
     "data": {
      "text/plain": [
       "RandomForestRegressor(bootstrap=True, criterion='mse', max_depth=None,\n",
       "           max_features='auto', max_leaf_nodes=None,\n",
       "           min_impurity_split=1e-07, min_samples_leaf=1,\n",
       "           min_samples_split=2, min_weight_fraction_leaf=0.0,\n",
       "           n_estimators=100, n_jobs=1, oob_score=False, random_state=None,\n",
       "           verbose=0, warm_start=False)"
      ]
     },
     "execution_count": 59,
     "metadata": {},
     "output_type": "execute_result"
    }
   ],
   "source": [
    "#params = [{\"n_estimators\": [10, 100, 300]}]\n",
    "\n",
    "#clf = GridSearchCV(ensemble.RandomForestRegressor(), params)\n",
    "clf = ensemble.RandomForestRegressor(n_estimators=100)\n",
    "\n",
    "clf.fit(data_train, label_train)"
   ]
  },
  {
   "cell_type": "code",
   "execution_count": 60,
   "metadata": {
    "collapsed": false,
    "deletable": true,
    "editable": true
   },
   "outputs": [
    {
     "data": {
      "text/plain": [
       "0.98722097205436887"
      ]
     },
     "execution_count": 60,
     "metadata": {},
     "output_type": "execute_result"
    }
   ],
   "source": [
    "clf.score(data_train, label_train)"
   ]
  },
  {
   "cell_type": "code",
   "execution_count": 61,
   "metadata": {
    "collapsed": false,
    "deletable": true,
    "editable": true
   },
   "outputs": [
    {
     "data": {
      "text/plain": [
       "0.9222586417989177"
      ]
     },
     "execution_count": 61,
     "metadata": {},
     "output_type": "execute_result"
    }
   ],
   "source": [
    "clf.score(data_test, label_test)"
   ]
  },
  {
   "cell_type": "code",
   "execution_count": 70,
   "metadata": {
    "collapsed": false
   },
   "outputs": [
    {
     "data": {
      "text/plain": [
       "['suumo_rent.pkl']"
      ]
     },
     "execution_count": 70,
     "metadata": {},
     "output_type": "execute_result"
    }
   ],
   "source": [
    "from sklearn.externals import joblib\n",
    "\n",
    "joblib.dump(clf, 'suumo_rent.pkl')"
   ]
  },
  {
   "cell_type": "code",
   "execution_count": 62,
   "metadata": {
    "collapsed": false,
    "deletable": true,
    "editable": true
   },
   "outputs": [
    {
     "data": {
      "text/html": [
       "<div>\n",
       "<table border=\"1\" class=\"dataframe\">\n",
       "  <thead>\n",
       "    <tr style=\"text-align: right;\">\n",
       "      <th></th>\n",
       "      <th>間取り</th>\n",
       "      <th>間取りDK_LDK</th>\n",
       "      <th>間取りK</th>\n",
       "      <th>間取りS</th>\n",
       "      <th>築年数</th>\n",
       "      <th>建物高さ</th>\n",
       "      <th>階</th>\n",
       "      <th>専有面積</th>\n",
       "      <th>歩分</th>\n",
       "      <th>世田谷</th>\n",
       "      <th>...</th>\n",
       "      <th>江東</th>\n",
       "      <th>渋谷</th>\n",
       "      <th>港</th>\n",
       "      <th>目黒</th>\n",
       "      <th>練馬</th>\n",
       "      <th>荒川</th>\n",
       "      <th>葛飾</th>\n",
       "      <th>豊島</th>\n",
       "      <th>足立</th>\n",
       "      <th>年間費用</th>\n",
       "    </tr>\n",
       "  </thead>\n",
       "  <tbody>\n",
       "    <tr>\n",
       "      <th>0</th>\n",
       "      <td>1</td>\n",
       "      <td>0</td>\n",
       "      <td>0</td>\n",
       "      <td>0</td>\n",
       "      <td>31</td>\n",
       "      <td>3</td>\n",
       "      <td>2</td>\n",
       "      <td>2.30</td>\n",
       "      <td>8.0</td>\n",
       "      <td>0</td>\n",
       "      <td>...</td>\n",
       "      <td>0</td>\n",
       "      <td>0</td>\n",
       "      <td>0</td>\n",
       "      <td>0</td>\n",
       "      <td>0</td>\n",
       "      <td>0</td>\n",
       "      <td>0</td>\n",
       "      <td>0</td>\n",
       "      <td>0</td>\n",
       "      <td>120000</td>\n",
       "    </tr>\n",
       "    <tr>\n",
       "      <th>1</th>\n",
       "      <td>1</td>\n",
       "      <td>0</td>\n",
       "      <td>0</td>\n",
       "      <td>0</td>\n",
       "      <td>28</td>\n",
       "      <td>5</td>\n",
       "      <td>4</td>\n",
       "      <td>7.00</td>\n",
       "      <td>10.0</td>\n",
       "      <td>0</td>\n",
       "      <td>...</td>\n",
       "      <td>0</td>\n",
       "      <td>0</td>\n",
       "      <td>0</td>\n",
       "      <td>0</td>\n",
       "      <td>0</td>\n",
       "      <td>0</td>\n",
       "      <td>0</td>\n",
       "      <td>0</td>\n",
       "      <td>1</td>\n",
       "      <td>240000</td>\n",
       "    </tr>\n",
       "    <tr>\n",
       "      <th>2</th>\n",
       "      <td>1</td>\n",
       "      <td>0</td>\n",
       "      <td>1</td>\n",
       "      <td>0</td>\n",
       "      <td>39</td>\n",
       "      <td>2</td>\n",
       "      <td>2</td>\n",
       "      <td>10.00</td>\n",
       "      <td>12.0</td>\n",
       "      <td>0</td>\n",
       "      <td>...</td>\n",
       "      <td>0</td>\n",
       "      <td>0</td>\n",
       "      <td>0</td>\n",
       "      <td>0</td>\n",
       "      <td>0</td>\n",
       "      <td>0</td>\n",
       "      <td>0</td>\n",
       "      <td>0</td>\n",
       "      <td>0</td>\n",
       "      <td>240000</td>\n",
       "    </tr>\n",
       "    <tr>\n",
       "      <th>3</th>\n",
       "      <td>1</td>\n",
       "      <td>0</td>\n",
       "      <td>0</td>\n",
       "      <td>0</td>\n",
       "      <td>39</td>\n",
       "      <td>2</td>\n",
       "      <td>1</td>\n",
       "      <td>9.91</td>\n",
       "      <td>10.0</td>\n",
       "      <td>0</td>\n",
       "      <td>...</td>\n",
       "      <td>0</td>\n",
       "      <td>0</td>\n",
       "      <td>0</td>\n",
       "      <td>0</td>\n",
       "      <td>0</td>\n",
       "      <td>0</td>\n",
       "      <td>0</td>\n",
       "      <td>0</td>\n",
       "      <td>0</td>\n",
       "      <td>252000</td>\n",
       "    </tr>\n",
       "    <tr>\n",
       "      <th>4</th>\n",
       "      <td>1</td>\n",
       "      <td>0</td>\n",
       "      <td>0</td>\n",
       "      <td>0</td>\n",
       "      <td>51</td>\n",
       "      <td>2</td>\n",
       "      <td>2</td>\n",
       "      <td>9.72</td>\n",
       "      <td>7.0</td>\n",
       "      <td>0</td>\n",
       "      <td>...</td>\n",
       "      <td>0</td>\n",
       "      <td>0</td>\n",
       "      <td>0</td>\n",
       "      <td>0</td>\n",
       "      <td>0</td>\n",
       "      <td>0</td>\n",
       "      <td>0</td>\n",
       "      <td>0</td>\n",
       "      <td>0</td>\n",
       "      <td>258000</td>\n",
       "    </tr>\n",
       "  </tbody>\n",
       "</table>\n",
       "<p>5 rows × 33 columns</p>\n",
       "</div>"
      ],
      "text/plain": [
       "  間取り  間取りDK_LDK  間取りK  間取りS  築年数  建物高さ  階   専有面積    歩分  世田谷   ...    江東  渋谷  \\\n",
       "0   1          0     0     0   31     3  2   2.30   8.0    0   ...     0   0   \n",
       "1   1          0     0     0   28     5  4   7.00  10.0    0   ...     0   0   \n",
       "2   1          0     1     0   39     2  2  10.00  12.0    0   ...     0   0   \n",
       "3   1          0     0     0   39     2  1   9.91  10.0    0   ...     0   0   \n",
       "4   1          0     0     0   51     2  2   9.72   7.0    0   ...     0   0   \n",
       "\n",
       "   港  目黒  練馬  荒川  葛飾  豊島  足立    年間費用  \n",
       "0  0   0   0   0   0   0   0  120000  \n",
       "1  0   0   0   0   0   0   1  240000  \n",
       "2  0   0   0   0   0   0   0  240000  \n",
       "3  0   0   0   0   0   0   0  252000  \n",
       "4  0   0   0   0   0   0   0  258000  \n",
       "\n",
       "[5 rows x 33 columns]"
      ]
     },
     "execution_count": 62,
     "metadata": {},
     "output_type": "execute_result"
    }
   ],
   "source": [
    "\n",
    "test_reindex = pd.merge(data_test, label_test.to_frame(), left_index=True, right_index=True)\n",
    "test_reindex = test_reindex.sort_values(by='年間費用').reset_index()\n",
    "\n",
    "del test_reindex['index']\n",
    "\n",
    "test_reindex.head()"
   ]
  },
  {
   "cell_type": "code",
   "execution_count": 63,
   "metadata": {
    "collapsed": false,
    "deletable": true,
    "editable": true
   },
   "outputs": [
    {
     "data": {
      "text/plain": [
       "[<matplotlib.lines.Line2D at 0x1134168d0>]"
      ]
     },
     "execution_count": 63,
     "metadata": {},
     "output_type": "execute_result"
    }
   ],
   "source": [
    "plt.plot(test_reindex.index, test_reindex['年間費用'])\n"
   ]
  },
  {
   "cell_type": "code",
   "execution_count": 64,
   "metadata": {
    "collapsed": true
   },
   "outputs": [],
   "source": [
    "Y  = test_reindex['年間費用']\n",
    "del test_reindex['年間費用']\n",
    "X = test_reindex"
   ]
  },
  {
   "cell_type": "code",
   "execution_count": 65,
   "metadata": {
    "collapsed": false
   },
   "outputs": [
    {
     "data": {
      "image/png": "[encoded data removed]",
      "text/plain": [
       "<matplotlib.figure.Figure at 0x15982b780>"
      ]
     },
     "metadata": {},
     "output_type": "display_data"
    }
   ],
   "source": [
    "plt.plot(X.index, clf.predict(X), color='red', linewidth=2)\n",
    "plt.show()"
   ]
  },
  {
   "cell_type": "code",
   "execution_count": 66,
   "metadata": {
    "collapsed": false
   },
   "outputs": [
    {
     "ename": "NameError",
     "evalue": "name 'mean_absolute_error' is not defined",
     "output_type": "error",
     "traceback": [
      "\u001b[0;31m---------------------------------------------------------------------------\u001b[0m",
      "\u001b[0;31mNameError\u001b[0m                                 Traceback (most recent call last)",
      "\u001b[0;32m<ipython-input-66-907f4f693010>\u001b[0m in \u001b[0;36m<module>\u001b[0;34m()\u001b[0m\n\u001b[1;32m      1\u001b[0m \u001b[0mresidual_RF\u001b[0m \u001b[0;34m=\u001b[0m \u001b[0;34m(\u001b[0m\u001b[0mY\u001b[0m\u001b[0;34m-\u001b[0m\u001b[0mclf\u001b[0m\u001b[0;34m.\u001b[0m\u001b[0mpredict\u001b[0m\u001b[0;34m(\u001b[0m\u001b[0mX\u001b[0m\u001b[0;34m)\u001b[0m\u001b[0;34m)\u001b[0m\u001b[0;34m**\u001b[0m\u001b[0;36m2\u001b[0m\u001b[0;34m\u001b[0m\u001b[0m\n\u001b[1;32m      2\u001b[0m \u001b[0mresidual_RF_total\u001b[0m \u001b[0;34m=\u001b[0m \u001b[0mresidual_RF\u001b[0m\u001b[0;34m.\u001b[0m\u001b[0msum\u001b[0m\u001b[0;34m(\u001b[0m\u001b[0;34m)\u001b[0m\u001b[0;34m\u001b[0m\u001b[0m\n\u001b[0;32m----> 3\u001b[0;31m \u001b[0mprint\u001b[0m\u001b[0;34m(\u001b[0m\u001b[0mmean_absolute_error\u001b[0m\u001b[0;34m(\u001b[0m\u001b[0mY\u001b[0m\u001b[0;34m,\u001b[0m \u001b[0mclf\u001b[0m\u001b[0;34m.\u001b[0m\u001b[0mpredict\u001b[0m\u001b[0;34m(\u001b[0m\u001b[0mX\u001b[0m\u001b[0;34m)\u001b[0m\u001b[0;34m)\u001b[0m\u001b[0;34m)\u001b[0m\u001b[0;34m\u001b[0m\u001b[0m\n\u001b[0m\u001b[1;32m      4\u001b[0m \u001b[0mprint\u001b[0m\u001b[0;34m(\u001b[0m\u001b[0mresidual_RF_total\u001b[0m\u001b[0;34m)\u001b[0m\u001b[0;34m\u001b[0m\u001b[0m\n",
      "\u001b[0;31mNameError\u001b[0m: name 'mean_absolute_error' is not defined"
     ]
    }
   ],
   "source": [
    "residual_RF = (Y-clf.predict(X))**2\n",
    "residual_RF_total = residual_RF.sum()\n",
    "print(mean_absolute_error(Y, clf.predict(X)))\n",
    "print(residual_RF_total)"
   ]
  },
  {
   "cell_type": "code",
   "execution_count": 67,
   "metadata": {
    "collapsed": false
   },
   "outputs": [
    {
     "name": "stdout",
     "output_type": "stream",
     "text": [
      "       間取り  間取りDK_LDK  間取りK  間取りS  築年数  建物高さ   階   専有面積    歩分  世田谷 ...  江戸川  \\\n",
      "53571    2          1     0     0   11    15  14  38.75   8.0    0 ...    0   \n",
      "13747    1          0     0     0   28     7   3  20.21   5.0    0 ...    0   \n",
      "132601   1          0     1     0    9     7   1  20.28   7.0    0 ...    0   \n",
      "92418    1          0     1     0   21     2   2  20.52   6.0    1 ...    0   \n",
      "152100   2          1     0     0   40     5   3  41.00   5.0    0 ...    0   \n",
      "88593    1          0     1     0   19     2   2  24.50   5.0    1 ...    0   \n",
      "18988    1          0     1     0    0     7   3  25.37   6.0    0 ...    0   \n",
      "25143    1          0     1     0   14     4   4  20.20   5.0    0 ...    0   \n",
      "183032   1          0     1     0    0     9   3  21.23   8.0    0 ...    0   \n",
      "112488   3          1     0     0   22     7   4  65.50   7.0    0 ...    0   \n",
      "185165   2          1     0     0   17     2   1  42.00  10.0    0 ...    0   \n",
      "48996    1          0     1     0   12     8   2  24.90  10.0    0 ...    0   \n",
      "115634   1          1     0     0   39     2   1  26.60   9.0    0 ...    0   \n",
      "49845    2          1     0     0   25     3   2  39.78  13.0    0 ...    0   \n",
      "62735    3          1     0     0    4     5   4  69.84  20.0    0 ...    0   \n",
      "63700    1          0     1     0   36     4   3  21.00   3.0    0 ...    0   \n",
      "3211     1          1     0     0   16    12  12  42.56   2.0    0 ...    0   \n",
      "177265   1          0     0     0    8     3   3  12.27   8.0    0 ...    0   \n",
      "129038   1          0     0     0   25     5   4  22.14   1.0    0 ...    0   \n",
      "92800    1          0     1     0    9     4   3  25.20   1.0    1 ...    0   \n",
      "155449   1          1     0     0    0     4   4  45.72   1.0    0 ...    0   \n",
      "174290   2          1     0     0   27     2   2  64.00  20.0    0 ...    0   \n",
      "141095   1          0     1     0    0    13   9  25.74   4.0    0 ...    0   \n",
      "34809    1          0     0     0   48     4   4  20.10  10.0    0 ...    0   \n",
      "174530   1          1     0     0    0     3   2  37.98   6.0    0 ...    0   \n",
      "153924   2          0     1     0   31     4   3  36.00   1.0    0 ...    0   \n",
      "57270    1          0     1     0   15    12   5  24.50   3.0    0 ...    0   \n",
      "174627   4          1     0     0   34     2   1  81.81  20.0    0 ...    0   \n",
      "54788    1          0     0     0   32     2   1  14.28   8.0    0 ...    0   \n",
      "29109    1          0     1     0    8     3   1  21.94   9.0    0 ...    0   \n",
      "...     ..        ...   ...   ...  ...   ...  ..    ...   ...  ... ...  ...   \n",
      "142396   2          1     0     0   30     2   1  45.40  17.0    0 ...    0   \n",
      "77460    1          0     1     0    0     2   1  25.05  12.0    0 ...    0   \n",
      "133415   1          0     1     0   10    11   5  32.26   8.0    0 ...    0   \n",
      "82701    1          0     1     0   27     2   1  17.50   7.0    1 ...    0   \n",
      "53319    1          1     0     0    0     8   6  32.22  10.0    0 ...    0   \n",
      "174611   1          1     0     0    6     2   1  47.92  10.0    0 ...    0   \n",
      "124066   1          0     1     0    0     3   3  24.70   7.0    0 ...    0   \n",
      "113271   1          0     1     0   49     2   2  18.98  14.0    0 ...    0   \n",
      "119992   1          1     0     0    9     2   2  25.00  20.0    0 ...    0   \n",
      "76598    1          0     1     0    0     4   1  27.58   3.0    0 ...    0   \n",
      "186470   1          1     0     0    6     2   2  49.85  15.0    0 ...    0   \n",
      "183857   2          1     0     0   25     2   1  41.25   6.0    0 ...    0   \n",
      "92077    1          0     1     0   19     5   4  19.30   8.0    1 ...    0   \n",
      "36031    1          0     1     0    9     9   6  27.52   3.0    0 ...    0   \n",
      "144752   1          0     1     0   31     3   1  24.00   7.0    0 ...    0   \n",
      "65132    1          0     1     0   11     7   3  20.16  11.0    0 ...    0   \n",
      "188868   1          0     0     0    0     3   2  14.32   7.0    0 ...    0   \n",
      "166639   1          1     0     0   25     3   2  24.03   3.0    0 ...    0   \n",
      "83790    1          0     0     0   33     5   2  14.56   5.0    1 ...    0   \n",
      "134216   1          1     0     0   10     7   2  30.31   9.0    0 ...    0   \n",
      "74730    1          0     1     0   29     4   3  23.73   8.0    0 ...    0   \n",
      "118356   1          0     1     0   10     2   2  25.00   4.0    0 ...    0   \n",
      "193881   3          1     0     0   29     5   5  53.46  17.0    0 ...    0   \n",
      "190188   1          1     0     0   48     4   4  40.00  14.0    0 ...    0   \n",
      "34299    3          1     0     0   37    11  11  73.63   2.0    0 ...    0   \n",
      "157456   1          1     0     0   26     5   2  31.72   6.0    0 ...    0   \n",
      "152036   1          0     1     0   10     5   3  20.90   8.0    0 ...    0   \n",
      "61564    2          1     0     0   31    11   4  43.24   5.0    0 ...    0   \n",
      "44944    2          1     0     0   11     8   5  53.16   7.0    0 ...    0   \n",
      "82415    3          1     0     0   28    12  10  76.53   1.0    0 ...    0   \n",
      "\n",
      "        江東  渋谷  港  目黒  練馬  荒川  葛飾  豊島  足立  \n",
      "53571    1   0  0   0   0   0   0   0   0  \n",
      "13747    0   0  0   0   0   0   0   0   0  \n",
      "132601   0   0  0   0   0   0   0   1   0  \n",
      "92418    0   0  0   0   0   0   0   0   0  \n",
      "152100   0   0  0   0   0   0   0   0   0  \n",
      "88593    0   0  0   0   0   0   0   0   0  \n",
      "18988    0   0  0   0   0   0   0   0   0  \n",
      "25143    0   0  0   0   0   0   0   0   0  \n",
      "183032   0   0  0   0   0   0   0   0   1  \n",
      "112488   0   0  0   0   0   0   0   0   0  \n",
      "185165   0   0  0   0   0   0   0   0   1  \n",
      "48996    1   0  0   0   0   0   0   0   0  \n",
      "115634   0   0  0   0   0   0   0   0   0  \n",
      "49845    1   0  0   0   0   0   0   0   0  \n",
      "62735    0   0  0   0   0   0   0   0   0  \n",
      "63700    0   0  0   1   0   0   0   0   0  \n",
      "3211     0   0  0   0   0   0   0   0   0  \n",
      "177265   0   0  0   0   0   0   0   0   1  \n",
      "129038   0   0  0   0   0   0   0   1   0  \n",
      "92800    0   0  0   0   0   0   0   0   0  \n",
      "155449   0   0  0   0   0   0   0   0   0  \n",
      "174290   0   0  0   0   1   0   0   0   0  \n",
      "141095   0   0  0   0   0   0   0   0   0  \n",
      "34809    0   0  0   0   0   0   0   0   0  \n",
      "174530   0   0  0   0   1   0   0   0   0  \n",
      "153924   0   0  0   0   0   0   0   0   0  \n",
      "57270    0   0  0   0   0   0   0   0   0  \n",
      "174627   0   0  0   0   1   0   0   0   0  \n",
      "54788    0   0  0   0   0   0   0   0   0  \n",
      "29109    0   1  0   0   0   0   0   0   0  \n",
      "...     ..  .. ..  ..  ..  ..  ..  ..  ..  \n",
      "142396   0   0  0   0   0   0   0   0   0  \n",
      "77460    0   0  0   0   0   0   0   0   0  \n",
      "133415   0   0  0   0   0   0   0   1   0  \n",
      "82701    0   0  0   0   0   0   0   0   0  \n",
      "53319    1   0  0   0   0   0   0   0   0  \n",
      "174611   0   0  0   0   1   0   0   0   0  \n",
      "124066   0   0  0   0   0   0   0   0   0  \n",
      "113271   0   0  0   0   0   0   0   0   0  \n",
      "119992   0   0  0   0   0   0   0   0   0  \n",
      "76598    0   0  0   0   0   0   0   0   0  \n",
      "186470   0   0  0   0   0   0   0   0   1  \n",
      "183857   0   0  0   0   0   0   0   0   1  \n",
      "92077    0   0  0   0   0   0   0   0   0  \n",
      "36031    0   0  0   0   0   0   0   0   0  \n",
      "144752   0   0  0   0   0   1   0   0   0  \n",
      "65132    0   0  0   1   0   0   0   0   0  \n",
      "188868   0   0  0   0   0   0   1   0   0  \n",
      "166639   0   0  0   0   1   0   0   0   0  \n",
      "83790    0   0  0   0   0   0   0   0   0  \n",
      "134216   0   0  0   0   0   0   0   1   0  \n",
      "74730    0   0  0   0   0   0   0   0   0  \n",
      "118356   0   0  0   0   0   0   0   0   0  \n",
      "193881   0   0  0   0   0   0   1   0   0  \n",
      "190188   0   0  0   0   0   0   1   0   0  \n",
      "34299    0   1  0   0   0   0   0   0   0  \n",
      "157456   0   0  0   0   0   0   0   0   0  \n",
      "152036   0   0  0   0   0   0   0   0   0  \n",
      "61564    0   0  0   0   0   0   0   0   0  \n",
      "44944    0   0  0   0   0   0   0   0   0  \n",
      "82415    0   0  0   0   0   0   0   0   0  \n",
      "\n",
      "[147435 rows x 32 columns]\n"
     ]
    }
   ],
   "source": [
    "from sklearn import linear_model\n",
    "\n",
    "clf_LR = linear_model.LinearRegression(normalize=True)\n",
    "clf_LR.fit(data_train, label_train)\n",
    "\n",
    "print(data_train)\n"
   ]
  },
  {
   "cell_type": "code",
   "execution_count": 68,
   "metadata": {
    "collapsed": false
   },
   "outputs": [
    {
     "name": "stdout",
     "output_type": "stream",
     "text": [
      "1.5062279482224816e+16\n"
     ]
    }
   ],
   "source": [
    "residual_LR = (Y-clf_LR.predict(X))**2\n",
    "residual_LR_total = residual_LR.sum()\n",
    "print(residual_LR_total)"
   ]
  },
  {
   "cell_type": "code",
   "execution_count": 69,
   "metadata": {
    "collapsed": false
   },
   "outputs": [
    {
     "data": {
      "image/png": "[encoded data removed]",
      "text/plain": [
       "<matplotlib.figure.Figure at 0x113406710>"
      ]
     },
     "metadata": {},
     "output_type": "display_data"
    }
   ],
   "source": [
    "plt.plot(X.index, clf_LR.predict(X), color='yellow', linewidth=2)\n",
    "plt.show()"
   ]
  },
  {
   "cell_type": "code",
   "execution_count": null,
   "metadata": {
    "collapsed": true
   },
   "outputs": [],
   "source": []
  },
  {
   "cell_type": "code",
   "execution_count": null,
   "metadata": {
    "collapsed": true
   },
   "outputs": [],
   "source": []
  },
  {
   "cell_type": "code",
   "execution_count": null,
   "metadata": {
    "collapsed": true
   },
   "outputs": [],
   "source": []
  }
 ],
 "metadata": {
  "kernelspec": {
   "display_name": "Python 3",
   "language": "python",
   "name": "python3"
  },
  "language_info": {
   "codemirror_mode": {
    "name": "ipython",
    "version": 3
   },
   "file_extension": ".py",
   "mimetype": "text/x-python",
   "name": "python",
   "nbconvert_exporter": "python",
   "pygments_lexer": "ipython3",
   "version": "3.6.0"
  }
 },
 "nbformat": 4,
 "nbformat_minor": 2
}

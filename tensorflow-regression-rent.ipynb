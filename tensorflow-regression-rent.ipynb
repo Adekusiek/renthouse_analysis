{
 "cells": [
  {
   "cell_type": "code",
   "execution_count": 1,
   "metadata": {
    "collapsed": true
   },
   "outputs": [],
   "source": [
    "%matplotlib inline\n",
    "import pandas as pd\n",
    "import numpy as np\n",
    "from sklearn import metrics, model_selection, ensemble, preprocessing\n",
    "import matplotlib.pyplot as plt\n",
    "import tensorflow as tf\n",
    "\n",
    "df = pd.read_csv('all_treated_DB.csv', sep = '\\t', index_col=0)"
   ]
  },
  {
   "cell_type": "code",
   "execution_count": 2,
   "metadata": {
    "collapsed": true
   },
   "outputs": [],
   "source": [
    "df = df.drop(df.index[df['total_annual_cost'] > 50000000])\n",
    "df = df.drop(df.index[df['monthly_rent'] > 3000000])\n",
    "df = df.drop(df.index[df['floor_plan'] > 9 ])\n",
    "df = df.drop(df.index[df['floor'] > 70])\n",
    "df = df.drop(df.index[df['surface'] > 320])\n",
    "df = df.drop(df.index[(df['walk_min1'] > 40) ])\n"
   ]
  },
  {
   "cell_type": "code",
   "execution_count": 3,
   "metadata": {
    "collapsed": true
   },
   "outputs": [],
   "source": [
    "ward = pd.get_dummies(df['ward'])"
   ]
  },
  {
   "cell_type": "code",
   "execution_count": 4,
   "metadata": {},
   "outputs": [
    {
     "data": {
      "text/html": [
       "<div>\n",
       "<style>\n",
       "    .dataframe thead tr:only-child th {\n",
       "        text-align: right;\n",
       "    }\n",
       "\n",
       "    .dataframe thead th {\n",
       "        text-align: left;\n",
       "    }\n",
       "\n",
       "    .dataframe tbody tr th {\n",
       "        vertical-align: top;\n",
       "    }\n",
       "</style>\n",
       "<table border=\"1\" class=\"dataframe\">\n",
       "  <thead>\n",
       "    <tr style=\"text-align: right;\">\n",
       "      <th></th>\n",
       "      <th>floor_plan</th>\n",
       "      <th>plan_DK</th>\n",
       "      <th>plan_L</th>\n",
       "      <th>plan_K</th>\n",
       "      <th>plan_S</th>\n",
       "      <th>age</th>\n",
       "      <th>story</th>\n",
       "      <th>floor</th>\n",
       "      <th>surface</th>\n",
       "      <th>walk_min1</th>\n",
       "      <th>...</th>\n",
       "      <th>江戸川</th>\n",
       "      <th>江東</th>\n",
       "      <th>渋谷</th>\n",
       "      <th>港</th>\n",
       "      <th>目黒</th>\n",
       "      <th>練馬</th>\n",
       "      <th>荒川</th>\n",
       "      <th>葛飾</th>\n",
       "      <th>豊島</th>\n",
       "      <th>足立</th>\n",
       "    </tr>\n",
       "  </thead>\n",
       "  <tbody>\n",
       "    <tr>\n",
       "      <th>0</th>\n",
       "      <td>1</td>\n",
       "      <td>0</td>\n",
       "      <td>0</td>\n",
       "      <td>0</td>\n",
       "      <td>0</td>\n",
       "      <td>6</td>\n",
       "      <td>2</td>\n",
       "      <td>1</td>\n",
       "      <td>4.33</td>\n",
       "      <td>1</td>\n",
       "      <td>...</td>\n",
       "      <td>0</td>\n",
       "      <td>0</td>\n",
       "      <td>0</td>\n",
       "      <td>0</td>\n",
       "      <td>0</td>\n",
       "      <td>0</td>\n",
       "      <td>0</td>\n",
       "      <td>0</td>\n",
       "      <td>0</td>\n",
       "      <td>0</td>\n",
       "    </tr>\n",
       "    <tr>\n",
       "      <th>1</th>\n",
       "      <td>1</td>\n",
       "      <td>0</td>\n",
       "      <td>0</td>\n",
       "      <td>0</td>\n",
       "      <td>0</td>\n",
       "      <td>47</td>\n",
       "      <td>5</td>\n",
       "      <td>5</td>\n",
       "      <td>9.72</td>\n",
       "      <td>5</td>\n",
       "      <td>...</td>\n",
       "      <td>0</td>\n",
       "      <td>0</td>\n",
       "      <td>0</td>\n",
       "      <td>0</td>\n",
       "      <td>0</td>\n",
       "      <td>0</td>\n",
       "      <td>0</td>\n",
       "      <td>0</td>\n",
       "      <td>0</td>\n",
       "      <td>0</td>\n",
       "    </tr>\n",
       "    <tr>\n",
       "      <th>2</th>\n",
       "      <td>1</td>\n",
       "      <td>0</td>\n",
       "      <td>0</td>\n",
       "      <td>0</td>\n",
       "      <td>0</td>\n",
       "      <td>47</td>\n",
       "      <td>5</td>\n",
       "      <td>5</td>\n",
       "      <td>9.72</td>\n",
       "      <td>5</td>\n",
       "      <td>...</td>\n",
       "      <td>0</td>\n",
       "      <td>0</td>\n",
       "      <td>0</td>\n",
       "      <td>0</td>\n",
       "      <td>0</td>\n",
       "      <td>0</td>\n",
       "      <td>0</td>\n",
       "      <td>0</td>\n",
       "      <td>0</td>\n",
       "      <td>0</td>\n",
       "    </tr>\n",
       "    <tr>\n",
       "      <th>3</th>\n",
       "      <td>1</td>\n",
       "      <td>0</td>\n",
       "      <td>0</td>\n",
       "      <td>0</td>\n",
       "      <td>0</td>\n",
       "      <td>37</td>\n",
       "      <td>9</td>\n",
       "      <td>3</td>\n",
       "      <td>17.70</td>\n",
       "      <td>4</td>\n",
       "      <td>...</td>\n",
       "      <td>0</td>\n",
       "      <td>0</td>\n",
       "      <td>0</td>\n",
       "      <td>0</td>\n",
       "      <td>0</td>\n",
       "      <td>0</td>\n",
       "      <td>0</td>\n",
       "      <td>0</td>\n",
       "      <td>0</td>\n",
       "      <td>0</td>\n",
       "    </tr>\n",
       "    <tr>\n",
       "      <th>4</th>\n",
       "      <td>1</td>\n",
       "      <td>0</td>\n",
       "      <td>0</td>\n",
       "      <td>0</td>\n",
       "      <td>0</td>\n",
       "      <td>37</td>\n",
       "      <td>9</td>\n",
       "      <td>7</td>\n",
       "      <td>22.88</td>\n",
       "      <td>4</td>\n",
       "      <td>...</td>\n",
       "      <td>0</td>\n",
       "      <td>0</td>\n",
       "      <td>0</td>\n",
       "      <td>0</td>\n",
       "      <td>0</td>\n",
       "      <td>0</td>\n",
       "      <td>0</td>\n",
       "      <td>0</td>\n",
       "      <td>0</td>\n",
       "      <td>0</td>\n",
       "    </tr>\n",
       "  </tbody>\n",
       "</table>\n",
       "<p>5 rows × 33 columns</p>\n",
       "</div>"
      ],
      "text/plain": [
       "   floor_plan  plan_DK  plan_L  plan_K  plan_S  age  story  floor  surface  \\\n",
       "0           1        0       0       0       0    6      2      1     4.33   \n",
       "1           1        0       0       0       0   47      5      5     9.72   \n",
       "2           1        0       0       0       0   47      5      5     9.72   \n",
       "3           1        0       0       0       0   37      9      3    17.70   \n",
       "4           1        0       0       0       0   37      9      7    22.88   \n",
       "\n",
       "   walk_min1 ...  江戸川  江東  渋谷  港  目黒  練馬  荒川  葛飾  豊島  足立  \n",
       "0          1 ...    0   0   0  0   0   0   0   0   0   0  \n",
       "1          5 ...    0   0   0  0   0   0   0   0   0   0  \n",
       "2          5 ...    0   0   0  0   0   0   0   0   0   0  \n",
       "3          4 ...    0   0   0  0   0   0   0   0   0   0  \n",
       "4          4 ...    0   0   0  0   0   0   0   0   0   0  \n",
       "\n",
       "[5 rows x 33 columns]"
      ]
     },
     "execution_count": 4,
     "metadata": {},
     "output_type": "execute_result"
    }
   ],
   "source": [
    "df_o = df[['floor_plan', 'plan_DK','plan_L', 'plan_K','plan_S','age','story', 'floor','surface','walk_min1', 'monthly_rent']]\n",
    "df_o = pd.merge(df_o, ward, left_index=True, right_index=True)\n",
    "df_o = df_o.dropna()\n",
    "target = df_o['monthly_rent']/100000\n",
    "df_o.drop(['monthly_rent'], axis=1, inplace=True) \n",
    "data = df_o\n",
    "data.head()"
   ]
  },
  {
   "cell_type": "code",
   "execution_count": 5,
   "metadata": {
    "collapsed": true
   },
   "outputs": [],
   "source": [
    "df_scaler = preprocessing.StandardScaler().fit(df_o)"
   ]
  },
  {
   "cell_type": "code",
   "execution_count": 6,
   "metadata": {
    "collapsed": true
   },
   "outputs": [],
   "source": [
    "target_n = target\n",
    "df_n = df_scaler.transform(df_o)"
   ]
  },
  {
   "cell_type": "code",
   "execution_count": 7,
   "metadata": {
    "collapsed": true
   },
   "outputs": [],
   "source": [
    "target_n = target_n.values.reshape(target_n.shape[0], 1)"
   ]
  },
  {
   "cell_type": "code",
   "execution_count": 8,
   "metadata": {
    "collapsed": true
   },
   "outputs": [],
   "source": [
    "# parameters\n",
    "learning_rate = 0.001\n",
    "n_hidden_1 = 64\n",
    "n_hidden_2 = 32\n",
    "n_hidden_3 = 16\n",
    "n_input = df_n.shape[1]\n",
    "n_class = 1\n",
    "#keep_prob = 0.8\n",
    "\n",
    "# declare placeholder\n",
    "x = tf.placeholder(tf.float32, [None, n_input])\n",
    "y_ = tf.placeholder(tf.float32, [None, 1])\n",
    "keep_prob = tf.placeholder(tf.float32)\n",
    "\n",
    "# declare variables\n",
    "# len(df.columns) -> [None, 10]\n",
    "weights = {\n",
    "    'w1': tf.Variable(tf.random_normal([n_input, n_hidden_1], 0, stddev=0.1), name=\"w1\"),\n",
    "    'w2': tf.Variable(tf.random_normal([n_hidden_1, n_hidden_2], 0, stddev=0.1), name=\"w2\"),\n",
    "    'w3': tf.Variable(tf.random_normal([n_hidden_2, n_hidden_3], 0, stddev=0.1), name=\"w3\"), \n",
    "    'w4': tf.Variable(tf.random_normal([n_hidden_3, n_class], 0, stddev=0.1), name=\"w4\")     \n",
    "}\n",
    "\n",
    "biases = {\n",
    "    'b1': tf.Variable(tf.random_normal([n_hidden_1], 0, stddev=0.1), name=\"b1\"), \n",
    "    'b2': tf.Variable(tf.random_normal([n_hidden_2], 0, stddev=0.1), name=\"b2\"), \n",
    "    'b3': tf.Variable(tf.random_normal([n_hidden_3], 0, stddev=0.1), name=\"b3\"), \n",
    "    'b4': tf.Variable(tf.random_normal([n_class], 0, stddev=0.1), name=\"b4\")     \n",
    "}\n",
    "\n",
    "# Create model\n",
    "def multilayer_perceptron(x, weights, biases):\n",
    "    # Hidden layer with RELU activation\n",
    "    layer_1 = tf.add(tf.matmul(x, weights['w1']), biases['b1'])\n",
    "    layer_1 = tf.nn.relu(layer_1)\n",
    "    #layer_1 = tf.nn.dropout(layer_1, keep_prob)\n",
    "\n",
    "    # Hidden layer with RELU activation\n",
    "    layer_2 = tf.add(tf.matmul(layer_1, weights['w2']), biases['b2'])\n",
    "    layer_2 = tf.nn.relu(layer_2)\n",
    "    #layer_2 = tf.nn.dropout(layer_2, keep_prob)\n",
    "\n",
    "    # Hidden layer with RELU activation\n",
    "    layer_3 = tf.add(tf.matmul(layer_2, weights['w3']), biases['b3'])\n",
    "    layer_3 = tf.nn.relu(layer_3)\n",
    "    layer_3 = tf.nn.dropout(layer_3, keep_prob)\n",
    "\n",
    "    # Output layer with linear activation\n",
    "    out_layer = tf.matmul(layer_3, weights['w4']) + biases['b4']\n",
    "    return out_layer\n",
    "\n",
    "# train model\n",
    "pred = multilayer_perceptron(x, weights, biases)\n",
    "\n",
    "#cost = tf.reduce_mean(tf.squared_difference(tf.transpose(pred), y_))\n",
    "cost = tf.reduce_mean(tf.squared_difference(pred, y_))\n",
    "optimizer = tf.train.AdamOptimizer(learning_rate).minimize(cost)"
   ]
  },
  {
   "cell_type": "code",
   "execution_count": 9,
   "metadata": {
    "collapsed": true
   },
   "outputs": [],
   "source": [
    "data_train, data_test, label_train, label_test = \\\n",
    "    model_selection.train_test_split(df_n, target_n, test_size=0.2)"
   ]
  },
  {
   "cell_type": "code",
   "execution_count": 11,
   "metadata": {},
   "outputs": [
    {
     "name": "stdout",
     "output_type": "stream",
     "text": [
      " Epoch: 0000 cost= 0.688060279 accuracy= 0.135817990\n",
      " Epoch: 0025 cost= 0.093425657 accuracy= 0.044741888\n",
      " Epoch: 0050 cost= 0.092176264 accuracy= 0.045852173\n",
      " Epoch: 0075 cost= 0.092760202 accuracy= 0.056625366\n",
      " Epoch: 0100 cost= 0.088423654 accuracy= 0.048128974\n",
      " Epoch: 0125 cost= 0.094658424 accuracy= 0.046530370\n",
      " Epoch: 0150 cost= 0.082987057 accuracy= 0.043260198\n",
      " Epoch: 0175 cost= 0.087892422 accuracy= 0.046107329\n",
      " Epoch: 0200 cost= 0.084583715 accuracy= 0.041807394\n",
      " Epoch: 0225 cost= 0.085510893 accuracy= 0.042212840\n",
      " Epoch: 0250 cost= 0.077910864 accuracy= 0.046488255\n",
      " Epoch: 0275 cost= 0.093557172 accuracy= 0.047465779\n",
      " Epoch: 0300 cost= 0.088881469 accuracy= 0.042632181\n",
      " Epoch: 0325 cost= 0.083123201 accuracy= 0.039136462\n",
      " Epoch: 0350 cost= 0.081035382 accuracy= 0.044379782\n",
      " Epoch: 0375 cost= 0.083920682 accuracy= 0.042366479\n",
      " Epoch: 0400 cost= 0.086444777 accuracy= 0.042770538\n",
      " Epoch: 0425 cost= 0.084537391 accuracy= 0.046347030\n",
      " Epoch: 0450 cost= 0.086975713 accuracy= 0.043891784\n",
      " Epoch: 0475 cost= 0.087399594 accuracy= 0.069404550\n",
      " Epoch: 0500 cost= 0.085504449 accuracy= 0.043778382\n",
      " Epoch: 0525 cost= 0.084086233 accuracy= 0.040899467\n",
      " Epoch: 0550 cost= 0.081782232 accuracy= 0.043398526\n",
      " Epoch: 0575 cost= 0.081659103 accuracy= 0.041204128\n",
      " Epoch: 0600 cost= 0.087647427 accuracy= 0.047088884\n",
      " Epoch: 0625 cost= 0.082806557 accuracy= 0.043932982\n",
      " Epoch: 0650 cost= 0.078107303 accuracy= 0.042913567\n",
      " Epoch: 0675 cost= 0.076807087 accuracy= 0.041060209\n",
      " Epoch: 0700 cost= 0.082828135 accuracy= 0.042456534\n",
      " Epoch: 0725 cost= 0.083821727 accuracy= 0.040526841\n",
      " Epoch: 0750 cost= 0.094166648 accuracy= 0.039537221\n",
      " Epoch: 0775 cost= 0.086000591 accuracy= 0.040716194\n",
      " Epoch: 0800 cost= 0.077684905 accuracy= 0.039284468\n",
      " Epoch: 0825 cost= 0.081947434 accuracy= 0.042437077\n",
      " Epoch: 0850 cost= 0.079077101 accuracy= 0.043289453\n",
      " Epoch: 0875 cost= 0.082074769 accuracy= 0.046796575\n",
      " Epoch: 0900 cost= 0.084390292 accuracy= 0.041579813\n",
      " Epoch: 0925 cost= 0.085894591 accuracy= 0.044750363\n",
      " Epoch: 0950 cost= 0.079146636 accuracy= 0.039053496\n",
      " Epoch: 0975 cost= 0.081643318 accuracy= 0.044214651\n",
      "finish training\n",
      "Error on test data= 0.040431\n"
     ]
    }
   ],
   "source": [
    "training_epochs = 1000\n",
    "batch_size = 1000\n",
    "total_len = data_train.shape[0]\n",
    "display_step = 25\n",
    "\n",
    "sess = tf.Session()\n",
    "sess.run(tf.global_variables_initializer())\n",
    "\n",
    "for epoch in range(training_epochs):\n",
    "    avg_cost = 0\n",
    "    total_batch = int(total_len/batch_size)\n",
    "    for i in range(total_batch-1):\n",
    "        batch_x = data_train[batch_size * i: batch_size *(i + 1) - 1]\n",
    "        batch_y = label_train[batch_size * i: batch_size *(i + 1) - 1]\n",
    "        _, c = sess.run([optimizer, cost], feed_dict={x: batch_x, y_: batch_y, keep_prob: 0.5})\n",
    "        avg_cost += c/total_batch\n",
    "\n",
    "    # display\n",
    "    if epoch % display_step == 0:\n",
    "        accuracy = sess.run(cost, feed_dict={x:data_test, y_:label_test, keep_prob: 1.0})\n",
    "        print(\" Epoch:\", '%04d' % (epoch), \"cost=\", \"{:.9f}\".format(avg_cost), \"accuracy=\", \"{:.9f}\".format(accuracy))\n",
    "\n",
    "print(\"finish training\")\n",
    "accuracy = sess.run(cost, feed_dict={x:data_test, y_:label_test, keep_prob: 1.0})\n",
    "print(\"Error on test data=\", accuracy)\n"
   ]
  },
  {
   "cell_type": "code",
   "execution_count": 12,
   "metadata": {},
   "outputs": [
    {
     "data": {
      "text/plain": [
       "'all_tf.ckpt'"
      ]
     },
     "execution_count": 12,
     "metadata": {},
     "output_type": "execute_result"
    }
   ],
   "source": [
    "saver = tf.train.Saver(var_list={\"b1\": biases['b1'], \"b2\": biases['b2'], \"b3\": biases['b3'], \"b4\": biases['b4'],  \\\n",
    "                                 \"w1\": weights['w1'], \"w2\": weights['w2'], \"w3\":weights['w3'], \"w4\": weights['w4']})\n",
    "saver.save(sess, \"all_tf.ckpt\")\n"
   ]
  },
  {
   "cell_type": "code",
   "execution_count": 13,
   "metadata": {},
   "outputs": [
    {
     "data": {
      "text/plain": [
       "array([[ 1.18864691],\n",
       "       [ 0.80745316],\n",
       "       [ 0.774248  ],\n",
       "       ..., \n",
       "       [ 1.04782319],\n",
       "       [ 1.2896986 ],\n",
       "       [ 0.80128765]], dtype=float32)"
      ]
     },
     "execution_count": 13,
     "metadata": {},
     "output_type": "execute_result"
    }
   ],
   "source": [
    "target_pre = sess.run(pred, feed_dict={x: data_test, keep_prob: 1.0})\n",
    "target_pre\n",
    "# target_pre = target_pre * (target.max() - target.min())  + target.min()\n",
    "\n",
    "\n",
    "# test_reindex = pd.merge(df, pd.DataFrame(target_pre.reshape(-1)), left_index=True, right_index=True)\n",
    "# # # test_reindex = test_reindex.sort_values(by='monthly_rent').reset_index()\n",
    "\n",
    "# # # del test_reindex['index']\n",
    "\n",
    "# test_reindex.head()"
   ]
  },
  {
   "cell_type": "code",
   "execution_count": 14,
   "metadata": {},
   "outputs": [
    {
     "name": "stdout",
     "output_type": "stream",
     "text": [
      "1.21746063276e+13\n"
     ]
    }
   ],
   "source": [
    "residual_RF = (label_test*100000 - target_pre*100000)**2\n",
    "residual_RF_total = residual_RF.sum()\n",
    "#print(mean_absolute_error(Y, clf.predict(X)))\n",
    "print(residual_RF_total)"
   ]
  },
  {
   "cell_type": "code",
   "execution_count": null,
   "metadata": {
    "collapsed": true
   },
   "outputs": [],
   "source": []
  }
 ],
 "metadata": {
  "kernelspec": {
   "display_name": "Python 3",
   "language": "python",
   "name": "python3"
  },
  "language_info": {
   "codemirror_mode": {
    "name": "ipython",
    "version": 3
   },
   "file_extension": ".py",
   "mimetype": "text/x-python",
   "name": "python",
   "nbconvert_exporter": "python",
   "pygments_lexer": "ipython3",
   "version": "3.5.4"
  }
 },
 "nbformat": 4,
 "nbformat_minor": 2
}

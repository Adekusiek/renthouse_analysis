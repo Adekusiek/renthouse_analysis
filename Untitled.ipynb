{
 "cells": [
  {
   "cell_type": "code",
   "execution_count": 83,
   "metadata": {
    "collapsed": true
   },
   "outputs": [],
   "source": [
    "import pandas as pd\n",
    "import numpy as np"
   ]
  },
  {
   "cell_type": "code",
   "execution_count": 84,
   "metadata": {
    "collapsed": false
   },
   "outputs": [],
   "source": [
    "df_chiyoda = pd.read_csv(\"shibuya.csv\", sep='\\t', encoding='utf-16')"
   ]
  },
  {
   "cell_type": "code",
   "execution_count": 85,
   "metadata": {
    "collapsed": false
   },
   "outputs": [
    {
     "data": {
      "text/html": [
       "<div>\n",
       "<table border=\"1\" class=\"dataframe\">\n",
       "  <thead>\n",
       "    <tr style=\"text-align: right;\">\n",
       "      <th></th>\n",
       "      <th>Unnamed: 0</th>\n",
       "      <th>マンション名</th>\n",
       "      <th>住所</th>\n",
       "      <th>立地</th>\n",
       "      <th>築年数</th>\n",
       "      <th>建物高さ</th>\n",
       "      <th>階</th>\n",
       "      <th>賃料</th>\n",
       "      <th>管理費</th>\n",
       "      <th>敷/礼/保証/敷引,償却</th>\n",
       "      <th>間取り</th>\n",
       "      <th>専有面積</th>\n",
       "    </tr>\n",
       "  </thead>\n",
       "  <tbody>\n",
       "    <tr>\n",
       "      <th>0</th>\n",
       "      <td>0</td>\n",
       "      <td>山崎荘</td>\n",
       "      <td>東京都渋谷区本町４</td>\n",
       "      <td>都営大江戸線/西新宿五丁目駅 歩10分</td>\n",
       "      <td>築39年</td>\n",
       "      <td>2階建</td>\n",
       "      <td>2階</td>\n",
       "      <td>3万円</td>\n",
       "      <td>-</td>\n",
       "      <td>3万円/3万円/-/-</td>\n",
       "      <td>ワンルーム</td>\n",
       "      <td>12.8m</td>\n",
       "    </tr>\n",
       "    <tr>\n",
       "      <th>1</th>\n",
       "      <td>1</td>\n",
       "      <td>京王新線 幡ヶ谷駅 2階建 築54年</td>\n",
       "      <td>東京都渋谷区幡ヶ谷１</td>\n",
       "      <td>京王新線/幡ヶ谷駅 歩5分</td>\n",
       "      <td>築54年</td>\n",
       "      <td>2階建</td>\n",
       "      <td>2階</td>\n",
       "      <td>3万円</td>\n",
       "      <td>-</td>\n",
       "      <td>3万円/3万円/-/-</td>\n",
       "      <td>ワンルーム</td>\n",
       "      <td>9.72m</td>\n",
       "    </tr>\n",
       "    <tr>\n",
       "      <th>2</th>\n",
       "      <td>2</td>\n",
       "      <td>京王新線 幡ヶ谷駅 2階建 築50年</td>\n",
       "      <td>東京都渋谷区幡ヶ谷３</td>\n",
       "      <td>京王新線/幡ヶ谷駅 歩7分</td>\n",
       "      <td>築50年</td>\n",
       "      <td>2階建</td>\n",
       "      <td>2階</td>\n",
       "      <td>3万円</td>\n",
       "      <td>1500円</td>\n",
       "      <td>3万円/-/-/-</td>\n",
       "      <td>ワンルーム</td>\n",
       "      <td>13.22m</td>\n",
       "    </tr>\n",
       "    <tr>\n",
       "      <th>3</th>\n",
       "      <td>3</td>\n",
       "      <td>ヒロオハウス</td>\n",
       "      <td>東京都渋谷区広尾２</td>\n",
       "      <td>東京メトロ日比谷線/広尾駅 歩8分</td>\n",
       "      <td>築54年</td>\n",
       "      <td>2階建</td>\n",
       "      <td>2階</td>\n",
       "      <td>2.6万円</td>\n",
       "      <td>7500円</td>\n",
       "      <td>2.6万円/2.6万円/-/1.62万円</td>\n",
       "      <td>ワンルーム</td>\n",
       "      <td>9.93m</td>\n",
       "    </tr>\n",
       "    <tr>\n",
       "      <th>4</th>\n",
       "      <td>4</td>\n",
       "      <td>ヒロオハウス</td>\n",
       "      <td>東京都渋谷区広尾２</td>\n",
       "      <td>東京メトロ日比谷線/広尾駅 歩8分</td>\n",
       "      <td>築54年</td>\n",
       "      <td>2階建</td>\n",
       "      <td>2階</td>\n",
       "      <td>2.6万円</td>\n",
       "      <td>7500円</td>\n",
       "      <td>2.6万円/2.6万円/-/1.62万円</td>\n",
       "      <td>ワンルーム</td>\n",
       "      <td>9.93m</td>\n",
       "    </tr>\n",
       "  </tbody>\n",
       "</table>\n",
       "</div>"
      ],
      "text/plain": [
       "   Unnamed: 0              マンション名          住所                   立地   築年数 建物高さ  \\\n",
       "0           0                 山崎荘   東京都渋谷区本町４  都営大江戸線/西新宿五丁目駅 歩10分  築39年  2階建   \n",
       "1           1  京王新線 幡ヶ谷駅 2階建 築54年  東京都渋谷区幡ヶ谷１        京王新線/幡ヶ谷駅 歩5分  築54年  2階建   \n",
       "2           2  京王新線 幡ヶ谷駅 2階建 築50年  東京都渋谷区幡ヶ谷３        京王新線/幡ヶ谷駅 歩7分  築50年  2階建   \n",
       "3           3              ヒロオハウス   東京都渋谷区広尾２    東京メトロ日比谷線/広尾駅 歩8分  築54年  2階建   \n",
       "4           4              ヒロオハウス   東京都渋谷区広尾２    東京メトロ日比谷線/広尾駅 歩8分  築54年  2階建   \n",
       "\n",
       "    階     賃料    管理費          敷/礼/保証/敷引,償却    間取り    専有面積  \n",
       "0  2階    3万円      -           3万円/3万円/-/-  ワンルーム   12.8m  \n",
       "1  2階    3万円      -           3万円/3万円/-/-  ワンルーム   9.72m  \n",
       "2  2階    3万円  1500円             3万円/-/-/-  ワンルーム  13.22m  \n",
       "3  2階  2.6万円  7500円  2.6万円/2.6万円/-/1.62万円  ワンルーム   9.93m  \n",
       "4  2階  2.6万円  7500円  2.6万円/2.6万円/-/1.62万円  ワンルーム   9.93m  "
      ]
     },
     "execution_count": 85,
     "metadata": {},
     "output_type": "execute_result"
    }
   ],
   "source": [
    "df_chiyoda.head()"
   ]
  },
  {
   "cell_type": "code",
   "execution_count": 86,
   "metadata": {
    "collapsed": false
   },
   "outputs": [],
   "source": [
    "df = df_chiyoda\n",
    "df.drop(['Unnamed: 0'], axis=1, inplace=True)"
   ]
  },
  {
   "cell_type": "code",
   "execution_count": 87,
   "metadata": {
    "collapsed": false
   },
   "outputs": [
    {
     "data": {
      "text/html": [
       "<div>\n",
       "<table border=\"1\" class=\"dataframe\">\n",
       "  <thead>\n",
       "    <tr style=\"text-align: right;\">\n",
       "      <th></th>\n",
       "      <th>立地1</th>\n",
       "      <th>立地2</th>\n",
       "    </tr>\n",
       "  </thead>\n",
       "  <tbody>\n",
       "    <tr>\n",
       "      <th>0</th>\n",
       "      <td>都営大江戸線/西新宿五丁目駅</td>\n",
       "      <td>10分</td>\n",
       "    </tr>\n",
       "    <tr>\n",
       "      <th>1</th>\n",
       "      <td>京王新線/幡ヶ谷駅</td>\n",
       "      <td>5分</td>\n",
       "    </tr>\n",
       "    <tr>\n",
       "      <th>2</th>\n",
       "      <td>京王新線/幡ヶ谷駅</td>\n",
       "      <td>7分</td>\n",
       "    </tr>\n",
       "    <tr>\n",
       "      <th>3</th>\n",
       "      <td>東京メトロ日比谷線/広尾駅</td>\n",
       "      <td>8分</td>\n",
       "    </tr>\n",
       "    <tr>\n",
       "      <th>4</th>\n",
       "      <td>東京メトロ日比谷線/広尾駅</td>\n",
       "      <td>8分</td>\n",
       "    </tr>\n",
       "  </tbody>\n",
       "</table>\n",
       "</div>"
      ],
      "text/plain": [
       "               立地1  立地2\n",
       "0  都営大江戸線/西新宿五丁目駅   10分\n",
       "1       京王新線/幡ヶ谷駅    5分\n",
       "2       京王新線/幡ヶ谷駅    7分\n",
       "3   東京メトロ日比谷線/広尾駅    8分\n",
       "4   東京メトロ日比谷線/広尾駅    8分"
      ]
     },
     "execution_count": 87,
     "metadata": {},
     "output_type": "execute_result"
    }
   ],
   "source": [
    "splitted1 = df['立地'].str.split('歩', expand=True)\n",
    "splitted1.columns = ['立地1', '立地2']\n",
    "splitted1.head()"
   ]
  },
  {
   "cell_type": "code",
   "execution_count": 88,
   "metadata": {
    "collapsed": false
   },
   "outputs": [],
   "source": [
    "splitted2 = df['敷/礼/保証/敷引,償却'].str.split('/', expand=True)\n",
    "splitted2.columns = ['敷金', '礼金', '保証金', '敷引,償却']\n",
    "\n",
    "#分割したカラムを結合\n",
    "df = pd.concat([df, splitted1, splitted2], axis=1)\n",
    "\n",
    "df.drop(['立地','敷/礼/保証/敷引,償却'], axis=1, inplace=True)"
   ]
  },
  {
   "cell_type": "code",
   "execution_count": 89,
   "metadata": {
    "collapsed": false
   },
   "outputs": [
    {
     "data": {
      "text/html": [
       "<div>\n",
       "<table border=\"1\" class=\"dataframe\">\n",
       "  <thead>\n",
       "    <tr style=\"text-align: right;\">\n",
       "      <th></th>\n",
       "      <th>マンション名</th>\n",
       "      <th>住所</th>\n",
       "      <th>築年数</th>\n",
       "      <th>建物高さ</th>\n",
       "      <th>階</th>\n",
       "      <th>賃料</th>\n",
       "      <th>管理費</th>\n",
       "      <th>間取り</th>\n",
       "      <th>専有面積</th>\n",
       "      <th>立地1</th>\n",
       "      <th>立地2</th>\n",
       "      <th>敷金</th>\n",
       "      <th>礼金</th>\n",
       "      <th>保証金</th>\n",
       "      <th>敷引,償却</th>\n",
       "    </tr>\n",
       "  </thead>\n",
       "  <tbody>\n",
       "    <tr>\n",
       "      <th>0</th>\n",
       "      <td>山崎荘</td>\n",
       "      <td>東京都渋谷区本町４</td>\n",
       "      <td>築39年</td>\n",
       "      <td>2階建</td>\n",
       "      <td>2階</td>\n",
       "      <td>3万円</td>\n",
       "      <td>-</td>\n",
       "      <td>ワンルーム</td>\n",
       "      <td>12.8m</td>\n",
       "      <td>都営大江戸線/西新宿五丁目駅</td>\n",
       "      <td>10分</td>\n",
       "      <td>3万円</td>\n",
       "      <td>3万円</td>\n",
       "      <td>-</td>\n",
       "      <td>-</td>\n",
       "    </tr>\n",
       "    <tr>\n",
       "      <th>1</th>\n",
       "      <td>京王新線 幡ヶ谷駅 2階建 築54年</td>\n",
       "      <td>東京都渋谷区幡ヶ谷１</td>\n",
       "      <td>築54年</td>\n",
       "      <td>2階建</td>\n",
       "      <td>2階</td>\n",
       "      <td>3万円</td>\n",
       "      <td>-</td>\n",
       "      <td>ワンルーム</td>\n",
       "      <td>9.72m</td>\n",
       "      <td>京王新線/幡ヶ谷駅</td>\n",
       "      <td>5分</td>\n",
       "      <td>3万円</td>\n",
       "      <td>3万円</td>\n",
       "      <td>-</td>\n",
       "      <td>-</td>\n",
       "    </tr>\n",
       "    <tr>\n",
       "      <th>2</th>\n",
       "      <td>京王新線 幡ヶ谷駅 2階建 築50年</td>\n",
       "      <td>東京都渋谷区幡ヶ谷３</td>\n",
       "      <td>築50年</td>\n",
       "      <td>2階建</td>\n",
       "      <td>2階</td>\n",
       "      <td>3万円</td>\n",
       "      <td>1500円</td>\n",
       "      <td>ワンルーム</td>\n",
       "      <td>13.22m</td>\n",
       "      <td>京王新線/幡ヶ谷駅</td>\n",
       "      <td>7分</td>\n",
       "      <td>3万円</td>\n",
       "      <td>-</td>\n",
       "      <td>-</td>\n",
       "      <td>-</td>\n",
       "    </tr>\n",
       "    <tr>\n",
       "      <th>3</th>\n",
       "      <td>ヒロオハウス</td>\n",
       "      <td>東京都渋谷区広尾２</td>\n",
       "      <td>築54年</td>\n",
       "      <td>2階建</td>\n",
       "      <td>2階</td>\n",
       "      <td>2.6万円</td>\n",
       "      <td>7500円</td>\n",
       "      <td>ワンルーム</td>\n",
       "      <td>9.93m</td>\n",
       "      <td>東京メトロ日比谷線/広尾駅</td>\n",
       "      <td>8分</td>\n",
       "      <td>2.6万円</td>\n",
       "      <td>2.6万円</td>\n",
       "      <td>-</td>\n",
       "      <td>1.62万円</td>\n",
       "    </tr>\n",
       "    <tr>\n",
       "      <th>4</th>\n",
       "      <td>ヒロオハウス</td>\n",
       "      <td>東京都渋谷区広尾２</td>\n",
       "      <td>築54年</td>\n",
       "      <td>2階建</td>\n",
       "      <td>2階</td>\n",
       "      <td>2.6万円</td>\n",
       "      <td>7500円</td>\n",
       "      <td>ワンルーム</td>\n",
       "      <td>9.93m</td>\n",
       "      <td>東京メトロ日比谷線/広尾駅</td>\n",
       "      <td>8分</td>\n",
       "      <td>2.6万円</td>\n",
       "      <td>2.6万円</td>\n",
       "      <td>-</td>\n",
       "      <td>1.62万円</td>\n",
       "    </tr>\n",
       "  </tbody>\n",
       "</table>\n",
       "</div>"
      ],
      "text/plain": [
       "               マンション名          住所   築年数 建物高さ   階     賃料    管理費    間取り    専有面積  \\\n",
       "0                 山崎荘   東京都渋谷区本町４  築39年  2階建  2階    3万円      -  ワンルーム   12.8m   \n",
       "1  京王新線 幡ヶ谷駅 2階建 築54年  東京都渋谷区幡ヶ谷１  築54年  2階建  2階    3万円      -  ワンルーム   9.72m   \n",
       "2  京王新線 幡ヶ谷駅 2階建 築50年  東京都渋谷区幡ヶ谷３  築50年  2階建  2階    3万円  1500円  ワンルーム  13.22m   \n",
       "3              ヒロオハウス   東京都渋谷区広尾２  築54年  2階建  2階  2.6万円  7500円  ワンルーム   9.93m   \n",
       "4              ヒロオハウス   東京都渋谷区広尾２  築54年  2階建  2階  2.6万円  7500円  ワンルーム   9.93m   \n",
       "\n",
       "               立地1  立地2     敷金     礼金 保証金   敷引,償却  \n",
       "0  都営大江戸線/西新宿五丁目駅   10分    3万円    3万円   -       -  \n",
       "1       京王新線/幡ヶ谷駅    5分    3万円    3万円   -       -  \n",
       "2       京王新線/幡ヶ谷駅    7分    3万円      -   -       -  \n",
       "3   東京メトロ日比谷線/広尾駅    8分  2.6万円  2.6万円   -  1.62万円  \n",
       "4   東京メトロ日比谷線/広尾駅    8分  2.6万円  2.6万円   -  1.62万円  "
      ]
     },
     "execution_count": 89,
     "metadata": {},
     "output_type": "execute_result"
    }
   ],
   "source": [
    "df.head()"
   ]
  },
  {
   "cell_type": "code",
   "execution_count": 90,
   "metadata": {
    "collapsed": true
   },
   "outputs": [],
   "source": [
    "df = df.dropna(subset=['賃料'])"
   ]
  },
  {
   "cell_type": "code",
   "execution_count": 91,
   "metadata": {
    "collapsed": true
   },
   "outputs": [],
   "source": [
    "df['賃料'] = df['賃料'].str.replace(u'万円', u'')\n",
    "df['敷金'] = df['敷金'].str.replace(u'万円', u'')\n",
    "df['礼金'] = df['礼金'].str.replace(u'万円', u'')\n",
    "df['保証金'] = df['保証金'].str.replace(u'万円', u'')\n",
    "df['敷引,償却'] = df['敷引,償却'].str.replace(u'万円', u'')\n",
    "df['管理費'] = df['管理費'].str.replace(u'円', u'')\n",
    "df['築年数'] = df['築年数'].str.replace(u'新築', u'0') #新築は築年数0年とする\n",
    "df['築年数'] = df['築年数'].str.replace(u'築', u'')\n",
    "df['築年数'] = df['築年数'].str.replace(u'年', u'')\n",
    "df['専有面積'] = df['専有面積'].str.replace(u'm', u'')\n",
    "df['立地2'] = df['立地2'].str.replace(u'分', u'')\n",
    "\n",
    "#「-」を0に変換\n",
    "df['管理費'] = df['管理費'].replace('-',0)\n",
    "df['敷金'] = df['敷金'].replace('-',0)\n",
    "df['礼金'] = df['礼金'].replace('-',0)\n",
    "df['保証金'] = df['保証金'].replace('-',0)\n",
    "df['敷引,償却'] = df['敷引,償却'].replace('-',0)\n",
    "#df['敷引'] = df['敷引'].replace('実費',0) #「実費」と文字列が入っている場合がある\n",
    "#df['償却'] = df['償却'].replace('-',0)\n",
    "\n",
    "#文字列から数値に変換\n",
    "df['賃料'] = pd.to_numeric(df['賃料'])\n",
    "df['管理費'] = pd.to_numeric(df['管理費'])\n",
    "df['敷金'] = pd.to_numeric(df['敷金'])\n",
    "df['礼金'] = pd.to_numeric(df['礼金'])\n",
    "df['保証金'] = pd.to_numeric(df['保証金'])\n",
    "df['敷引,償却'] = pd.to_numeric(df['敷引,償却'])\n",
    "df['築年数'] = pd.to_numeric(df['築年数'])\n",
    "df['専有面積'] = pd.to_numeric(df['専有面積'])\n",
    "df['立地2'] = pd.to_numeric(df['立地2'])\n",
    "\n",
    "#単位を合わせるために、管理費以外を10000倍。\n",
    "df['賃料'] = df['賃料'] * 10000\n",
    "df['敷金'] = df['敷金'] * 10000\n",
    "df['礼金'] = df['礼金'] * 10000\n",
    "df['保証金'] = df['保証金'] * 10000\n",
    "df['敷引,償却'] = df['敷引,償却'] * 10000"
   ]
  },
  {
   "cell_type": "code",
   "execution_count": 92,
   "metadata": {
    "collapsed": false
   },
   "outputs": [],
   "source": [
    "splitted3 = df['住所'].str.split('区', expand=True)\n",
    "splitted3.columns = ['区', '住所']\n",
    "splitted3['区'] = splitted3['区'].str.replace('東京都', '')\n",
    "df = pd.concat([df, splitted3['区']], axis=1)\n"
   ]
  },
  {
   "cell_type": "code",
   "execution_count": 93,
   "metadata": {
    "collapsed": false
   },
   "outputs": [],
   "source": [
    "height = df['建物高さ'].str.split('地上', expand=True)\n",
    "height.columns = ['height1', 'height2']\n",
    "#height['underground'] = height['underground'].str.replace(u'地下', u'')\n",
    "height['height1'] = height['height1'].str.replace(u'階建', u'')\n",
    "height['height1'] = height['height1'].str.replace(u'地下', u'')\n",
    "height['height1'] = height['height1'].str.replace(u'平屋', u'2')\n",
    "height['height2'] = height['height2'].str.replace(u'階建', u'')\n",
    "height = height.fillna(0)\n",
    "df['建物高さ'] = pd.to_numeric(height['height2']) + pd.to_numeric(height['height1'])"
   ]
  },
  {
   "cell_type": "code",
   "execution_count": 94,
   "metadata": {
    "collapsed": false,
    "scrolled": true
   },
   "outputs": [
    {
     "name": "stderr",
     "output_type": "stream",
     "text": [
      "/home/kek/.pyenv/versions/anaconda3-4.3.1/lib/python3.6/site-packages/ipykernel/__main__.py:15: SettingWithCopyWarning: \n",
      "A value is trying to be set on a copy of a slice from a DataFrame\n",
      "\n",
      "See the caveats in the documentation: http://pandas.pydata.org/pandas-docs/stable/indexing.html#indexing-view-versus-copy\n",
      "/home/kek/.pyenv/versions/anaconda3-4.3.1/lib/python3.6/site-packages/ipykernel/__main__.py:13: SettingWithCopyWarning: \n",
      "A value is trying to be set on a copy of a slice from a DataFrame\n",
      "\n",
      "See the caveats in the documentation: http://pandas.pydata.org/pandas-docs/stable/indexing.html#indexing-view-versus-copy\n"
     ]
    }
   ],
   "source": [
    "#indexを振り直す（これをしないと、以下の処理でエラーが出る）\n",
    "df = df.reset_index(drop=True)\n",
    "\n",
    "#間取りを「部屋数」「DK有無」「K有無」「L有無」「S有無」に分割\n",
    "df['間取りDK'] = 0\n",
    "df['間取りK'] = 0\n",
    "df['間取りL'] = 0\n",
    "df['間取りS'] = 0\n",
    "df['間取り'] = df['間取り'].str.replace(u'ワンルーム', u'1') #ワンルームを1に変換\n",
    "\n",
    "for x in range(len(df)):\n",
    "    if 'DK' in df['間取り'][x]:\n",
    "        df['間取りDK'][x] = 1\n",
    "    elif 'K' in df['間取り'][x]:\n",
    "        df['間取りK'][x] = 1\n",
    "    elif 'L' in df['間取り'][x]:\n",
    "        df['間取りL'][x] = 1\n",
    "    elif 'S' in df['間取り'][x]:\n",
    "        df['間取りS'][x] = 1\n",
    "\n",
    "df['間取り'] = df['間取り'].str.replace(u'DK', u'')\n",
    "df['間取り'] = df['間取り'].str.replace(u'K', u'')\n",
    "df['間取り'] = df['間取り'].str.replace(u'L', u'')\n",
    "df['間取り'] = df['間取り'].str.replace(u'S', u'')\n",
    "\n"
   ]
  },
  {
   "cell_type": "code",
   "execution_count": null,
   "metadata": {
    "collapsed": true
   },
   "outputs": [],
   "source": [
    "df = df[['マンション名','区','間取り','間取りDK','間取りK','間取りL','間取りS','築年数','建物高さ','階','専有面積',\n",
    "    '立地2', '賃料','管理費','敷金','礼金','保証金','敷引,償却']]\n"
   ]
  }
 ],
 "metadata": {
  "kernelspec": {
   "display_name": "Python 3",
   "language": "python",
   "name": "python3"
  },
  "language_info": {
   "codemirror_mode": {
    "name": "ipython",
    "version": 3
   },
   "file_extension": ".py",
   "mimetype": "text/x-python",
   "name": "python",
   "nbconvert_exporter": "python",
   "pygments_lexer": "ipython3",
   "version": "3.6.0"
  }
 },
 "nbformat": 4,
 "nbformat_minor": 2
}

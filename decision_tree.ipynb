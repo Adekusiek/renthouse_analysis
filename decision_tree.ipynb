{
 "cells": [
  {
   "cell_type": "code",
   "execution_count": 57,
   "metadata": {
    "collapsed": false
   },
   "outputs": [],
   "source": [
    "import pandas as pd\n",
    "from sklearn import metrics, model_selection, ensemble\n",
    "\n",
    "df = pd.read_csv('suumo_treated.csv', sep = '\\t',encoding='utf-16')\n",
    "\n",
    "ward = pd.get_dummies(df[['区']])\n",
    "\n",
    "df = pd.merge(df, ward, left_index=True, right_index=True)\n",
    "del df['Unnamed: 0']\n",
    "df = df.dropna(subset=['歩分'])"
   ]
  },
  {
   "cell_type": "code",
   "execution_count": 58,
   "metadata": {
    "collapsed": false
   },
   "outputs": [
    {
     "data": {
      "text/plain": [
       "RandomForestRegressor(bootstrap=True, criterion='mse', max_depth=None,\n",
       "           max_features='auto', max_leaf_nodes=None,\n",
       "           min_impurity_split=1e-07, min_samples_leaf=1,\n",
       "           min_samples_split=2, min_weight_fraction_leaf=0.0,\n",
       "           n_estimators=100, n_jobs=1, oob_score=False, random_state=None,\n",
       "           verbose=0, warm_start=False)"
      ]
     },
     "execution_count": 58,
     "metadata": {},
     "output_type": "execute_result"
    }
   ],
   "source": [
    "df_extract = df\n",
    "label = df_extract['年間費用']\n",
    "df_extract.drop(['マンション名','区','路線', '駅', '賃料','管理費','敷金','礼金','保証金','敷引,償却', '賃料月額', '初期費用', '年間費用'], axis=1, inplace=True)\n",
    "data = df_extract\n",
    "data.sort_values(by='築年数').head()\n",
    "data_train, data_test, label_train, label_test = \\\n",
    "    model_selection.train_test_split(data, label)\n",
    "\n",
    "clf = ensemble.RandomForestRegressor(n_estimators=100)\n",
    "\n",
    "clf.fit(data_train, label_train)\n"
   ]
  },
  {
   "cell_type": "code",
   "execution_count": 74,
   "metadata": {
    "collapsed": false
   },
   "outputs": [
    {
     "data": {
      "text/plain": [
       "0.8955828859762559"
      ]
     },
     "execution_count": 74,
     "metadata": {},
     "output_type": "execute_result"
    }
   ],
   "source": [
    "clf.score(data_train, label_train)"
   ]
  },
  {
   "cell_type": "code",
   "execution_count": 75,
   "metadata": {
    "collapsed": false
   },
   "outputs": [
    {
     "data": {
      "text/plain": [
       "-174.85025508900182"
      ]
     },
     "execution_count": 75,
     "metadata": {},
     "output_type": "execute_result"
    }
   ],
   "source": [
    "clf.score(data_test, label_test)"
   ]
  },
  {
   "cell_type": "code",
   "execution_count": 64,
   "metadata": {
    "collapsed": false
   },
   "outputs": [
    {
     "data": {
      "text/html": [
       "<div>\n",
       "<table border=\"1\" class=\"dataframe\">\n",
       "  <thead>\n",
       "    <tr style=\"text-align: right;\">\n",
       "      <th></th>\n",
       "      <th>間取り</th>\n",
       "      <th>間取りDK_LDK</th>\n",
       "      <th>間取りK</th>\n",
       "      <th>間取りS</th>\n",
       "      <th>築年数</th>\n",
       "      <th>建物高さ</th>\n",
       "      <th>階</th>\n",
       "      <th>専有面積</th>\n",
       "      <th>歩分</th>\n",
       "      <th>区_世田谷</th>\n",
       "      <th>...</th>\n",
       "      <th>区_江戸川</th>\n",
       "      <th>区_江東</th>\n",
       "      <th>区_渋谷</th>\n",
       "      <th>区_港</th>\n",
       "      <th>区_目黒</th>\n",
       "      <th>区_練馬</th>\n",
       "      <th>区_荒川</th>\n",
       "      <th>区_葛飾</th>\n",
       "      <th>区_豊島</th>\n",
       "      <th>区_足立</th>\n",
       "    </tr>\n",
       "  </thead>\n",
       "  <tbody>\n",
       "  </tbody>\n",
       "</table>\n",
       "<p>0 rows × 32 columns</p>\n",
       "</div>"
      ],
      "text/plain": [
       "Empty DataFrame\n",
       "Columns: [間取り, 間取りDK_LDK, 間取りK, 間取りS, 築年数, 建物高さ, 階, 専有面積, 歩分, 区_世田谷, 区_中央, 区_中野, 区_北, 区_千代田, 区_台東, 区_品川, 区_墨田, 区_大田, 区_文京, 区_新宿, 区_杉並, 区_板橋, 区_江戸川, 区_江東, 区_渋谷, 区_港, 区_目黒, 区_練馬, 区_荒川, 区_葛飾, 区_豊島, 区_足立]\n",
       "Index: []\n",
       "\n",
       "[0 rows x 32 columns]"
      ]
     },
     "execution_count": 64,
     "metadata": {},
     "output_type": "execute_result"
    }
   ],
   "source": [
    "data[data.isnull().any(1)]"
   ]
  },
  {
   "cell_type": "code",
   "execution_count": null,
   "metadata": {
    "collapsed": true
   },
   "outputs": [],
   "source": []
  }
 ],
 "metadata": {
  "kernelspec": {
   "display_name": "Python 3",
   "language": "python",
   "name": "python3"
  },
  "language_info": {
   "codemirror_mode": {
    "name": "ipython",
    "version": 3
   },
   "file_extension": ".py",
   "mimetype": "text/x-python",
   "name": "python",
   "nbconvert_exporter": "python",
   "pygments_lexer": "ipython3",
   "version": "3.6.0"
  }
 },
 "nbformat": 4,
 "nbformat_minor": 2
}

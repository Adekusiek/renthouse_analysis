{
 "cells": [
  {
   "cell_type": "code",
   "execution_count": 6,
   "metadata": {
    "collapsed": true
   },
   "outputs": [],
   "source": [
    "import pymysql.cursors\n",
    "import pandas as pd\n",
    "from sklearn.externals import joblib\n",
    "\n",
    "# Connect to DB\n",
    "db = pymysql.connect(\n",
    "        host = 'localhost',\n",
    "        user = 'root',\n",
    "        password = '',\n",
    "        db = 'all_monthly_rent_development',\n",
    "        charset = 'utf8mb4',\n",
    "        cursorclass=pymysql.cursors.DictCursor)\n",
    "\n",
    "# get data with not prediction data\n",
    "df = pd.read_sql('select * from appartments where pre_monthly_rent is NULL;', con=db)\n"
   ]
  },
  {
   "cell_type": "code",
   "execution_count": 7,
   "metadata": {},
   "outputs": [
    {
     "name": "stderr",
     "output_type": "stream",
     "text": [
      "/Users/kawaharakeisuke/.pyenv/versions/anaconda3-4.3.0/envs/scraping/lib/python3.5/site-packages/pandas/core/indexing.py:179: SettingWithCopyWarning: \n",
      "A value is trying to be set on a copy of a slice from a DataFrame\n",
      "\n",
      "See the caveats in the documentation: http://pandas.pydata.org/pandas-docs/stable/indexing.html#indexing-view-versus-copy\n",
      "  self._setitem_with_indexer(indexer, value)\n"
     ]
    }
   ],
   "source": [
    "#立地を「路線, 駅, 徒歩〜分」に分割\n",
    "df = df.drop(df.index[(df['station1'].str.count(\"/\") > 1) | (df['station2'].str.count(\"/\") > 1) | (df['station3'].str.count(\"/\") > 1)])\n",
    "df = df.drop(df.index[df['initial_cost'].str.count(\"/\") > 3])\n",
    "\n",
    "splitted00 = df['station1'].str.split(' 歩', expand=True)\n",
    "splitted00.columns = ['location1', 'walk_min1']\n",
    "splitted10 = splitted00['location1'].str.split('/', expand=True)\n",
    "splitted10.columns = ['line1', 'station_name1']\n",
    "\n",
    "splitted01 = df['station2'].str.split(' 歩', expand=True)\n",
    "splitted01.columns = ['location2', 'walk_min2']\n",
    "splitted11 = splitted01['location2'].str.split('/', expand=True)\n",
    "splitted11.columns = ['line2', 'station_name2']\n",
    "\n",
    "splitted02 = df['station3'].str.split(' 歩', expand=True)\n",
    "splitted02.columns = ['location3', 'walk_min3']\n",
    "splitted12 = splitted02['location3'].str.split('/', expand=True)\n",
    "splitted12.columns = ['line3', 'station_name3']\n",
    "\n",
    "splitted2 = df['initial_cost'].str.split('/', expand=True)\n",
    "splitted2.columns = ['shikikin', 'reikin', 'hoshokin', 'shokyaku']\n",
    "#分割したカラムを結合\n",
    "df = pd.concat([df, splitted00, splitted10, splitted01, splitted11, splitted02, \\\n",
    "                splitted12, splitted2], axis=1)\n",
    "\n",
    "# df['rent'] = df['rent'].str.replace(u'万円', u'')\n",
    "df['shikikin'] = df['shikikin'].str.replace(u'万円', u'')\n",
    "df['reikin'] = df['reikin'].str.replace(u'万円', u'')\n",
    "df['hoshokin'] = df['hoshokin'].str.replace(u'万円', u'')\n",
    "df['shokyaku'] = df['shokyaku'].str.replace(u'万円', u'')\n",
    "df['walk_min1'] = df['walk_min1'].str.replace(u'分', u'')\n",
    "\n",
    "#「-」を0に変換\n",
    "# df['admin_fee'] = df['admin_fee'].replace('-',0)\n",
    "df['shikikin'] = df['shikikin'].replace('-',0)\n",
    "df['reikin'] = df['reikin'].replace('-',0)\n",
    "df['hoshokin'] = df['hoshokin'].replace('-',0)\n",
    "df['shokyaku'] = df['shokyaku'].replace('-',0)\n",
    "df['shikikin'] = df['shikikin'].replace('--',0)\n",
    "df['reikin'] = df['reikin'].replace('--',0)\n",
    "df['hoshokin'] = df['hoshokin'].replace('--',0)\n",
    "df['shokyaku'] = df['shokyaku'].replace('--',0)\n",
    "df['shokyaku'] = df['shokyaku'].replace('実費',0)\n",
    "\n",
    "#文字列から数値に変換\n",
    "# df['rent'] = pd.to_numeric(df['rent'])\n",
    "# df['admin_fee'] = pd.to_numeric(df['admin_fee'])\n",
    "df['shikikin'] = pd.to_numeric(df['shikikin'])\n",
    "df['reikin'] = pd.to_numeric(df['reikin'])\n",
    "df['hoshokin'] = pd.to_numeric(df['hoshokin'])\n",
    "df['shokyaku'] = pd.to_numeric(df['shokyaku'])\n",
    "# df['age'] = pd.to_numeric(df['age'])\n",
    "# df['surface'] = pd.to_numeric(df['surface'])\n",
    "df['walk_min1'] = pd.to_numeric(df['walk_min1'])\n",
    "\n",
    "#単位を合わせるために、admin_fee以外を10000倍。\n",
    "df['rent'] = df['rent'].astype(int) * 10000\n",
    "df['shikikin'] = df['shikikin'].astype(int) * 10000\n",
    "df['reikin'] = df['reikin'].astype(int) * 10000\n",
    "df['hoshokin'] = df['hoshokin'].astype(int) * 10000\n",
    "df['shokyaku'] = df['shokyaku'].astype(int) * 10000\n",
    "\n",
    "#賃貸の計算\n",
    "df['monthly_rent'] = df['rent'] + df['admin_fee']\n",
    "df['total_initial_cost'] = df['shikikin'] + df['reikin'] + df['hoshokin'] + df['shokyaku']\n",
    "df['total_annual_cost'] = df['monthly_rent'] * 12 + df['total_initial_cost']\n",
    "\n",
    "df = df.dropna(subset=['rent'])\n",
    "df = df.dropna(subset=['walk_min1'])\n",
    "\n",
    "#区の切り出し\n",
    "splitted3 = df['address'].str.split('区', expand=True)\n",
    "splitted3.columns = ['ward', 'address']\n",
    "splitted3['ward'] = splitted3['ward'].str.replace('東京都', '')\n",
    "df = pd.concat([df, splitted3['ward']], axis=1)\n",
    "\n",
    "#indexを振り直す（これをしないと、以下の処理でエラーが出る）\n",
    "df = df.reset_index(drop=True)\n",
    "\n",
    "#間取りを分割\n",
    "df['plan_DK'] = 0\n",
    "df['plan_L'] = 0\n",
    "df['plan_K'] = 0\n",
    "df['plan_S'] = 0\n",
    "df['floor_plan'] = df['floor_plan'].str.replace(u'ワンルーム', u'1') #ワンルームを1に変換\n",
    "\n",
    "# df index or df ix ->\n",
    "df['plan_L'].iloc[df.index[df['floor_plan'].str.count('L') > 0]] = 1\n",
    "df['floor_plan'] = df['floor_plan'].str.replace(u'L', u'')\n",
    "\n",
    "df['plan_DK'].iloc[df.index[df['floor_plan'].str.count('DK') > 0]] = 1\n",
    "df['floor_plan'] = df['floor_plan'].str.replace(u'DK', u'')\n",
    "\n",
    "df['plan_K'].iloc[df.index[df['floor_plan'].str.count('K') > 0]] = 1\n",
    "df['floor_plan'] = df['floor_plan'].str.replace(u'K', u'')\n",
    "\n",
    "df['plan_S'].iloc[df.index[df['floor_plan'].str.count('S') > 0]] = 1\n",
    "df['floor_plan'] = df['floor_plan'].str.replace(u'S', u'')\n",
    "\n",
    "df['floor_plan'] = df['floor_plan'].str.replace(u'R', u'')\n",
    "df['floor_plan'] = df['floor_plan'].str.replace(u'+', u'')\n",
    "df['floor_plan'] = pd.to_numeric(df['floor_plan'])\n",
    "\n",
    "\n",
    "df = df[['id', 'name','ward','floor_plan','plan_DK','plan_L','plan_K','plan_S','age','story', \\\n",
    "    'floor','surface','walk_min1','line1', 'station_name1', 'walk_min2','line2', \\\n",
    "    'station_name2', 'walk_min3','line3', 'station_name3', 'rent','admin_fee', \\\n",
    "    'shikikin', 'reikin','hoshokin','shokyaku', 'monthly_rent', 'total_initial_cost', \\\n",
    "    'total_annual_cost']]"
   ]
  },
  {
   "cell_type": "code",
   "execution_count": 8,
   "metadata": {
    "collapsed": true
   },
   "outputs": [],
   "source": [
    "# prepare df_o for prediction\n",
    "ward = pd.get_dummies(df['ward'])\n",
    "\n",
    "df_o = df[['floor_plan', 'plan_DK','plan_L', 'plan_K','plan_S','age','story', 'floor','surface','walk_min1', 'monthly_rent']]\n",
    "df_o = pd.merge(df_o, ward, left_index=True, right_index=True)\n",
    "df_o = df_o.dropna()\n",
    "\n",
    "y_true = df_o['monthly_rent']\n",
    "df_o.drop(['monthly_rent'], axis=1, inplace=True) \n",
    "data = df_o"
   ]
  },
  {
   "cell_type": "code",
   "execution_count": 9,
   "metadata": {
    "collapsed": true
   },
   "outputs": [],
   "source": [
    "# import training result\n",
    "clf = joblib.load('all_rent_monthly_rent.pkl')\n",
    "pre_monthly_rent = clf.predict(data)\n",
    "delta = (pre_monthly_rent - y_true)\n",
    "pre_monthly_rent = pd.DataFrame(pre_monthly_rent)\n",
    "pre_monthly_rent.columns = ['pre_monthly_rent']\n",
    "delta.name = 'delta_monthly_rent'\n",
    "df = pd.concat([df, pre_monthly_rent, delta], axis=1)\n",
    "df['pre_monthly_rent'] = df['pre_monthly_rent'].astype(int)\n",
    "df['delta_monthly_rent'] = df['delta_monthly_rent'].astype(int)"
   ]
  },
  {
   "cell_type": "code",
   "execution_count": 12,
   "metadata": {},
   "outputs": [],
   "source": [
    "#Update database for pre_monthly_rent and delta_monthly_rent\n",
    "for i in range(len(df)):\n",
    "    c = db.cursor()\n",
    "    sql_update = \"update appartments set pre_monthly_rent = '%s', delta_monthly_rent = '%s' where id = %s;\" \\\n",
    "                    % (df['pre_monthly_rent'][i], df['delta_monthly_rent'][i],  df['id'][i])\n",
    "    c.execute(sql_update)\n",
    "    db.commit()\n",
    "    c.close()"
   ]
  },
  {
   "cell_type": "code",
   "execution_count": null,
   "metadata": {
    "collapsed": true
   },
   "outputs": [],
   "source": []
  }
 ],
 "metadata": {
  "kernelspec": {
   "display_name": "Python 3",
   "language": "python",
   "name": "python3"
  },
  "language_info": {
   "codemirror_mode": {
    "name": "ipython",
    "version": 3
   },
   "file_extension": ".py",
   "mimetype": "text/x-python",
   "name": "python",
   "nbconvert_exporter": "python",
   "pygments_lexer": "ipython3",
   "version": "3.5.4"
  }
 },
 "nbformat": 4,
 "nbformat_minor": 2
}
